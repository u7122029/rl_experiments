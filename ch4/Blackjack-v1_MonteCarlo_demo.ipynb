{
 "cells": [
  {
   "cell_type": "markdown",
   "metadata": {},
   "source": [
    "# Blackjack-v1"
   ],
   "id": "d3ab04741e0fc993"
  },
  {
   "cell_type": "code",
   "metadata": {
    "ExecuteTime": {
     "end_time": "2025-06-23T11:12:27.759939Z",
     "start_time": "2025-06-23T11:12:27.756157Z"
    }
   },
   "source": [
    "%matplotlib inline\n",
    "\n",
    "import sys\n",
    "import logging\n",
    "import itertools\n",
    "from tqdm import tqdm\n",
    "\n",
    "import numpy as np\n",
    "np.random.seed(0)\n",
    "import gymnasium as gym\n",
    "import matplotlib.pyplot as plt\n",
    "\n",
    "logging.basicConfig(level=logging.INFO,\n",
    "        format='%(asctime)s [%(levelname)s] %(message)s',\n",
    "        stream=sys.stdout, datefmt='%H:%M:%S')"
   ],
   "id": "2fd51c6b3c57412",
   "outputs": [],
   "execution_count": 35
  },
  {
   "cell_type": "markdown",
   "metadata": {},
   "source": [
    "### Use Environment"
   ],
   "id": "b71c825b498f6224"
  },
  {
   "cell_type": "code",
   "metadata": {
    "ExecuteTime": {
     "end_time": "2025-06-23T11:12:28.817302Z",
     "start_time": "2025-06-23T11:12:28.808859Z"
    }
   },
   "source": [
    "env = gym.make('Blackjack-v1')\n",
    "for key in vars(env):\n",
    "    logging.info('%s: %s', key, vars(env)[key])\n",
    "for key in vars(env.spec):\n",
    "    logging.info('%s: %s', key, vars(env.spec)[key])"
   ],
   "id": "8d3a6e0fd98be45f",
   "outputs": [
    {
     "name": "stdout",
     "output_type": "stream",
     "text": [
      "21:12:28 [INFO] _saved_kwargs: {'disable_render_order_enforcing': False}\n",
      "21:12:28 [INFO] env: <PassiveEnvChecker<BlackjackEnv<Blackjack-v1>>>\n",
      "21:12:28 [INFO] _action_space: None\n",
      "21:12:28 [INFO] _observation_space: None\n",
      "21:12:28 [INFO] _metadata: None\n",
      "21:12:28 [INFO] _cached_spec: None\n",
      "21:12:28 [INFO] _has_reset: False\n",
      "21:12:28 [INFO] _disable_render_order_enforcing: False\n",
      "21:12:28 [INFO] id: Blackjack-v1\n",
      "21:12:28 [INFO] entry_point: gymnasium.envs.toy_text.blackjack:BlackjackEnv\n",
      "21:12:28 [INFO] reward_threshold: None\n",
      "21:12:28 [INFO] nondeterministic: False\n",
      "21:12:28 [INFO] max_episode_steps: None\n",
      "21:12:28 [INFO] order_enforce: True\n",
      "21:12:28 [INFO] disable_env_checker: False\n",
      "21:12:28 [INFO] kwargs: {'sab': True, 'natural': False}\n",
      "21:12:28 [INFO] additional_wrappers: ()\n",
      "21:12:28 [INFO] vector_entry_point: None\n",
      "21:12:28 [INFO] namespace: None\n",
      "21:12:28 [INFO] name: Blackjack\n",
      "21:12:28 [INFO] version: 1\n"
     ]
    }
   ],
   "execution_count": 36
  },
  {
   "cell_type": "code",
   "metadata": {
    "ExecuteTime": {
     "end_time": "2025-06-23T11:12:29.425514Z",
     "start_time": "2025-06-23T11:12:29.413947Z"
    }
   },
   "source": [
    "def ob2state(observation):\n",
    "    return observation[0], observation[1], int(observation[2])\n",
    "\n",
    "def play_policy(env, policy=None, verbose=False):\n",
    "    observation, _ = env.reset()\n",
    "    reward, terminated, truncated = 0., False, False\n",
    "    episode_reward, elapsed_steps = 0., 0\n",
    "    if verbose:\n",
    "        logging.info('observation = %s', observation)\n",
    "    while True:\n",
    "        #if verbose:\n",
    "        #    logging.info('player = %s, dealer = %s', env.player, env.dealer)\n",
    "        if policy is None:\n",
    "            action = env.action_space.sample()\n",
    "        else:\n",
    "            state = ob2state(observation)\n",
    "            action = np.random.choice(env.action_space.n, p=policy[state])\n",
    "        if verbose:\n",
    "            logging.info('action = %s', action)\n",
    "        observation, reward, terminated, truncated, _ = env.step(action)\n",
    "        if verbose:\n",
    "            logging.info('observation = %s', observation)\n",
    "            logging.info('reward = %s', reward)\n",
    "            logging.info('terminated = %s', terminated)\n",
    "            logging.info('truncated = %s', truncated)\n",
    "        episode_reward += reward\n",
    "        elapsed_steps += 1\n",
    "        if terminated or truncated:\n",
    "            break\n",
    "    return episode_reward, elapsed_steps\n",
    "\n",
    "episode_reward, elapsed_steps = play_policy(env, verbose=True)\n",
    "logging.info(\"episode reward: %.2f\", episode_reward)"
   ],
   "id": "e52ff36e0474a369",
   "outputs": [
    {
     "name": "stdout",
     "output_type": "stream",
     "text": [
      "21:12:29 [INFO] observation = (12, 10, 1)\n",
      "21:12:29 [INFO] action = 1\n",
      "21:12:29 [INFO] observation = (13, 10, 1)\n",
      "21:12:29 [INFO] reward = 0.0\n",
      "21:12:29 [INFO] terminated = False\n",
      "21:12:29 [INFO] truncated = False\n",
      "21:12:29 [INFO] action = 1\n",
      "21:12:29 [INFO] observation = (19, 10, 1)\n",
      "21:12:29 [INFO] reward = 0.0\n",
      "21:12:29 [INFO] terminated = False\n",
      "21:12:29 [INFO] truncated = False\n",
      "21:12:29 [INFO] action = 1\n",
      "21:12:29 [INFO] observation = (21, 10, 1)\n",
      "21:12:29 [INFO] reward = 0.0\n",
      "21:12:29 [INFO] terminated = False\n",
      "21:12:29 [INFO] truncated = False\n",
      "21:12:29 [INFO] action = 0\n",
      "21:12:29 [INFO] observation = (21, 10, 1)\n",
      "21:12:29 [INFO] reward = 1.0\n",
      "21:12:29 [INFO] terminated = True\n",
      "21:12:29 [INFO] truncated = False\n",
      "21:12:29 [INFO] episode reward: 1.00\n"
     ]
    }
   ],
   "execution_count": 37
  },
  {
   "cell_type": "markdown",
   "metadata": {},
   "source": [
    "### On-policy Monte Carlo\n",
    "\n",
    "Monte Carlo prediction"
   ],
   "id": "82450f7c893e0f93"
  },
  {
   "cell_type": "code",
   "metadata": {
    "ExecuteTime": {
     "end_time": "2025-06-23T11:12:30.508480Z",
     "start_time": "2025-06-23T11:12:30.505163Z"
    }
   },
   "source": [
    "def evaluate_action_monte_carlo(env, policy, episode_num=500000):\n",
    "    q = np.zeros_like(policy)  # action value\n",
    "    c = np.zeros_like(policy)  # count\n",
    "    for _ in range(episode_num):\n",
    "        # play an episode\n",
    "        state_actions = []\n",
    "        observation, _ = env.reset()\n",
    "        while True:\n",
    "            state = ob2state(observation)\n",
    "            action = np.random.choice(env.action_space.n, p=policy[state])\n",
    "            state_actions.append((state, action))\n",
    "            observation, reward, terminated, truncated, _ = env.step(action)\n",
    "            if terminated or truncated:\n",
    "                break  # end of episode\n",
    "        g = reward  # return\n",
    "        for state, action in state_actions:\n",
    "            c[state][action] += 1.\n",
    "            q[state][action] += (g - q[state][action]) / c[state][action]\n",
    "    return q"
   ],
   "id": "d37e48f65ca994a2",
   "outputs": [],
   "execution_count": 38
  },
  {
   "cell_type": "code",
   "metadata": {
    "ExecuteTime": {
     "end_time": "2025-06-23T11:12:59.377893Z",
     "start_time": "2025-06-23T11:12:31.355902Z"
    }
   },
   "source": [
    "policy = np.zeros((22, 11, 2, 2))\n",
    "policy[20:, :, :, 0] = 1  # stand when >=20\n",
    "policy[:20, :, :, 1] = 1  # hit when <20\n",
    "\n",
    "env.reset(seed=42)\n",
    "q = evaluate_action_monte_carlo(env, policy)  # action value\n",
    "v = (q * policy).sum(axis=-1)  # state value"
   ],
   "id": "40794314a04893d9",
   "outputs": [],
   "execution_count": 39
  },
  {
   "cell_type": "code",
   "metadata": {
    "ExecuteTime": {
     "end_time": "2025-06-23T11:13:01.597071Z",
     "start_time": "2025-06-23T11:13:01.594539Z"
    }
   },
   "source": [
    "def plot(data):\n",
    "    fig, axes = plt.subplots(1, 2, figsize=(9, 4))\n",
    "    titles = ['without ace', 'with ace']\n",
    "    have_aces = [0, 1]\n",
    "    extent = [12, 22, 1, 11]\n",
    "    for title, have_ace, axis in zip(titles, have_aces, axes):\n",
    "        dat = data[extent[0]:extent[1], extent[2]:extent[3], have_ace].T\n",
    "        axis.imshow(dat, extent=extent, origin='lower')\n",
    "        axis.set_xlabel('player sum')\n",
    "        axis.set_ylabel('dealer showing')\n",
    "        axis.set_title(title)"
   ],
   "id": "d6fb97e3fdc1444c",
   "outputs": [],
   "execution_count": 40
  },
  {
   "cell_type": "code",
   "metadata": {
    "ExecuteTime": {
     "end_time": "2025-06-23T11:13:03.963271Z",
     "start_time": "2025-06-23T11:13:03.859485Z"
    }
   },
   "source": [
    "plot(v)"
   ],
   "id": "27ebb0b2fbe7f04a",
   "outputs": [
    {
     "data": {
      "text/plain": [
       "<Figure size 900x400 with 2 Axes>"
      ],
      "image/png": "[encoded data removed]"
     },
     "metadata": {},
     "output_type": "display_data"
    }
   ],
   "execution_count": 41
  },
  {
   "cell_type": "markdown",
   "metadata": {},
   "source": [
    "Test Policy"
   ],
   "id": "faca92b6ad890c2e"
  },
  {
   "cell_type": "code",
   "metadata": {
    "ExecuteTime": {
     "end_time": "2025-06-23T11:13:06.490831Z",
     "start_time": "2025-06-23T11:13:06.433656Z"
    }
   },
   "source": [
    "episode_rewards = []\n",
    "env.reset(seed=42)\n",
    "for episode in range(100):\n",
    "    episode_reward, elapsed_steps = play_policy(env, policy)\n",
    "    episode_rewards.append(episode_reward)\n",
    "    logging.info('test episode %d: reward = %.2f, steps = %d',\n",
    "            episode, episode_reward, elapsed_steps)\n",
    "logging.info('average episode reward = %.2f ± %.2f',\n",
    "        np.mean(episode_rewards), np.std(episode_rewards))"
   ],
   "id": "adafcfe6a6badd65",
   "outputs": [
    {
     "name": "stdout",
     "output_type": "stream",
     "text": [
      "21:13:06 [INFO] test episode 0: reward = -1.00, steps = 1\n",
      "21:13:06 [INFO] test episode 1: reward = 0.00, steps = 1\n",
      "21:13:06 [INFO] test episode 2: reward = -1.00, steps = 1\n",
      "21:13:06 [INFO] test episode 3: reward = -1.00, steps = 1\n",
      "21:13:06 [INFO] test episode 4: reward = -1.00, steps = 1\n",
      "21:13:06 [INFO] test episode 5: reward = -1.00, steps = 3\n",
      "21:13:06 [INFO] test episode 6: reward = -1.00, steps = 1\n",
      "21:13:06 [INFO] test episode 7: reward = 1.00, steps = 2\n",
      "21:13:06 [INFO] test episode 8: reward = 1.00, steps = 2\n",
      "21:13:06 [INFO] test episode 9: reward = -1.00, steps = 3\n",
      "21:13:06 [INFO] test episode 10: reward = 0.00, steps = 2\n",
      "21:13:06 [INFO] test episode 11: reward = 1.00, steps = 3\n",
      "21:13:06 [INFO] test episode 12: reward = 0.00, steps = 1\n",
      "21:13:06 [INFO] test episode 13: reward = -1.00, steps = 2\n",
      "21:13:06 [INFO] test episode 14: reward = -1.00, steps = 1\n",
      "21:13:06 [INFO] test episode 15: reward = 1.00, steps = 2\n",
      "21:13:06 [INFO] test episode 16: reward = 1.00, steps = 3\n",
      "21:13:06 [INFO] test episode 17: reward = -1.00, steps = 1\n",
      "21:13:06 [INFO] test episode 18: reward = -1.00, steps = 1\n",
      "21:13:06 [INFO] test episode 19: reward = -1.00, steps = 2\n",
      "21:13:06 [INFO] test episode 20: reward = 1.00, steps = 1\n",
      "21:13:06 [INFO] test episode 21: reward = -1.00, steps = 2\n",
      "21:13:06 [INFO] test episode 22: reward = -1.00, steps = 1\n",
      "21:13:06 [INFO] test episode 23: reward = 0.00, steps = 3\n",
      "21:13:06 [INFO] test episode 24: reward = -1.00, steps = 1\n",
      "21:13:06 [INFO] test episode 25: reward = -1.00, steps = 1\n",
      "21:13:06 [INFO] test episode 26: reward = 1.00, steps = 2\n",
      "21:13:06 [INFO] test episode 27: reward = -1.00, steps = 1\n",
      "21:13:06 [INFO] test episode 28: reward = -1.00, steps = 2\n",
      "21:13:06 [INFO] test episode 29: reward = 1.00, steps = 2\n",
      "21:13:06 [INFO] test episode 30: reward = 1.00, steps = 2\n",
      "21:13:06 [INFO] test episode 31: reward = -1.00, steps = 3\n",
      "21:13:06 [INFO] test episode 32: reward = -1.00, steps = 1\n",
      "21:13:06 [INFO] test episode 33: reward = 1.00, steps = 1\n",
      "21:13:06 [INFO] test episode 34: reward = 1.00, steps = 3\n",
      "21:13:06 [INFO] test episode 35: reward = -1.00, steps = 1\n",
      "21:13:06 [INFO] test episode 36: reward = 1.00, steps = 3\n",
      "21:13:06 [INFO] test episode 37: reward = -1.00, steps = 2\n",
      "21:13:06 [INFO] test episode 38: reward = -1.00, steps = 3\n",
      "21:13:06 [INFO] test episode 39: reward = -1.00, steps = 2\n",
      "21:13:06 [INFO] test episode 40: reward = -1.00, steps = 2\n",
      "21:13:06 [INFO] test episode 41: reward = -1.00, steps = 2\n",
      "21:13:06 [INFO] test episode 42: reward = -1.00, steps = 2\n",
      "21:13:06 [INFO] test episode 43: reward = -1.00, steps = 2\n",
      "21:13:06 [INFO] test episode 44: reward = -1.00, steps = 2\n",
      "21:13:06 [INFO] test episode 45: reward = 0.00, steps = 1\n",
      "21:13:06 [INFO] test episode 46: reward = -1.00, steps = 3\n",
      "21:13:06 [INFO] test episode 47: reward = -1.00, steps = 1\n",
      "21:13:06 [INFO] test episode 48: reward = -1.00, steps = 1\n",
      "21:13:06 [INFO] test episode 49: reward = 1.00, steps = 3\n",
      "21:13:06 [INFO] test episode 50: reward = 1.00, steps = 2\n",
      "21:13:06 [INFO] test episode 51: reward = -1.00, steps = 1\n",
      "21:13:06 [INFO] test episode 52: reward = -1.00, steps = 3\n",
      "21:13:06 [INFO] test episode 53: reward = -1.00, steps = 2\n",
      "21:13:06 [INFO] test episode 54: reward = 1.00, steps = 3\n",
      "21:13:06 [INFO] test episode 55: reward = -1.00, steps = 3\n",
      "21:13:06 [INFO] test episode 56: reward = 1.00, steps = 1\n",
      "21:13:06 [INFO] test episode 57: reward = 1.00, steps = 1\n",
      "21:13:06 [INFO] test episode 58: reward = 1.00, steps = 6\n",
      "21:13:06 [INFO] test episode 59: reward = 1.00, steps = 2\n",
      "21:13:06 [INFO] test episode 60: reward = 1.00, steps = 1\n",
      "21:13:06 [INFO] test episode 61: reward = -1.00, steps = 2\n",
      "21:13:06 [INFO] test episode 62: reward = -1.00, steps = 1\n",
      "21:13:06 [INFO] test episode 63: reward = -1.00, steps = 2\n",
      "21:13:06 [INFO] test episode 64: reward = -1.00, steps = 2\n",
      "21:13:06 [INFO] test episode 65: reward = -1.00, steps = 2\n",
      "21:13:06 [INFO] test episode 66: reward = -1.00, steps = 1\n",
      "21:13:06 [INFO] test episode 67: reward = 1.00, steps = 2\n",
      "21:13:06 [INFO] test episode 68: reward = 1.00, steps = 2\n",
      "21:13:06 [INFO] test episode 69: reward = 1.00, steps = 1\n",
      "21:13:06 [INFO] test episode 70: reward = -1.00, steps = 3\n",
      "21:13:06 [INFO] test episode 71: reward = -1.00, steps = 3\n",
      "21:13:06 [INFO] test episode 72: reward = 0.00, steps = 1\n",
      "21:13:06 [INFO] test episode 73: reward = -1.00, steps = 2\n",
      "21:13:06 [INFO] test episode 74: reward = -1.00, steps = 1\n",
      "21:13:06 [INFO] test episode 75: reward = -1.00, steps = 4\n",
      "21:13:06 [INFO] test episode 76: reward = 0.00, steps = 4\n",
      "21:13:06 [INFO] test episode 77: reward = -1.00, steps = 1\n",
      "21:13:06 [INFO] test episode 78: reward = -1.00, steps = 1\n",
      "21:13:06 [INFO] test episode 79: reward = -1.00, steps = 4\n",
      "21:13:06 [INFO] test episode 80: reward = 1.00, steps = 2\n",
      "21:13:06 [INFO] test episode 81: reward = -1.00, steps = 2\n",
      "21:13:06 [INFO] test episode 82: reward = -1.00, steps = 2\n",
      "21:13:06 [INFO] test episode 83: reward = -1.00, steps = 1\n",
      "21:13:06 [INFO] test episode 84: reward = -1.00, steps = 1\n",
      "21:13:06 [INFO] test episode 85: reward = -1.00, steps = 1\n",
      "21:13:06 [INFO] test episode 86: reward = -1.00, steps = 1\n",
      "21:13:06 [INFO] test episode 87: reward = 1.00, steps = 2\n",
      "21:13:06 [INFO] test episode 88: reward = -1.00, steps = 2\n",
      "21:13:06 [INFO] test episode 89: reward = -1.00, steps = 3\n",
      "21:13:06 [INFO] test episode 90: reward = 1.00, steps = 1\n",
      "21:13:06 [INFO] test episode 91: reward = -1.00, steps = 1\n",
      "21:13:06 [INFO] test episode 92: reward = -1.00, steps = 1\n",
      "21:13:06 [INFO] test episode 93: reward = 1.00, steps = 3\n",
      "21:13:06 [INFO] test episode 94: reward = -1.00, steps = 2\n",
      "21:13:06 [INFO] test episode 95: reward = 1.00, steps = 3\n",
      "21:13:06 [INFO] test episode 96: reward = -1.00, steps = 1\n",
      "21:13:06 [INFO] test episode 97: reward = -1.00, steps = 1\n",
      "21:13:06 [INFO] test episode 98: reward = 0.00, steps = 1\n",
      "21:13:06 [INFO] test episode 99: reward = 1.00, steps = 4\n",
      "21:13:06 [INFO] average episode reward = -0.34 ± 0.90\n"
     ]
    }
   ],
   "execution_count": 42
  },
  {
   "cell_type": "code",
   "metadata": {
    "ExecuteTime": {
     "end_time": "2025-06-23T11:13:09.351179Z",
     "start_time": "2025-06-23T11:13:09.346068Z"
    }
   },
   "source": [
    "observation, _ = env.reset(seed=42)\n",
    "logging.info(\"observation = %s\", observation)\n",
    "state = ob2state(observation)\n",
    "logging.info(\"state = %s\", state)\n",
    "probs = policy[state]\n",
    "logging.info(\"probs = %s\", probs)"
   ],
   "id": "f5161386f3c162f0",
   "outputs": [
    {
     "name": "stdout",
     "output_type": "stream",
     "text": [
      "21:13:09 [INFO] observation = (15, 2, 0)\n",
      "21:13:09 [INFO] state = (15, 2, 0)\n",
      "21:13:09 [INFO] probs = [0. 1.]\n"
     ]
    }
   ],
   "execution_count": 43
  },
  {
   "cell_type": "markdown",
   "metadata": {},
   "source": [
    "#### Monte Carlo update with exploring start"
   ],
   "id": "4ad244227135fce9"
  },
  {
   "cell_type": "code",
   "metadata": {
    "ExecuteTime": {
     "end_time": "2025-06-23T11:13:11.220905Z",
     "start_time": "2025-06-23T11:13:11.216490Z"
    }
   },
   "source": [
    "def monte_carlo_with_exploring_start(env, episode_num=500000):\n",
    "    policy = np.zeros((22, 11, 2, 2))\n",
    "    policy[:, :, :, 1] = 1.\n",
    "    q = np.zeros_like(policy)  # action values\n",
    "    c = np.zeros_like(policy)  # counts\n",
    "    for _ in tqdm(range(episode_num)):\n",
    "        # choose initial state randomly\n",
    "        state = (np.random.randint(12, 22),\n",
    "                 np.random.randint(1, 11),\n",
    "                 np.random.randint(2))\n",
    "        action = np.random.randint(2)\n",
    "        # play an episode\n",
    "        env.reset()\n",
    "        if state[2]:  # has ace\n",
    "            env.unwrapped.player = [1, state[0] - 11]\n",
    "        else:  # no ace\n",
    "            if state[0] == 21:\n",
    "                env.unwrapped.player = [10, 9, 2]\n",
    "            else:\n",
    "                env.unwrapped.player = [10, state[0] - 10]\n",
    "        env.unwrapped.dealer[0] = state[1]\n",
    "        state_actions = []\n",
    "        while True:\n",
    "            state_actions.append((state, action))\n",
    "            observation, reward, terminated, truncated, _ = env.step(action)\n",
    "            if terminated or truncated:\n",
    "                break  # end of episode\n",
    "            state = ob2state(observation)\n",
    "            action = np.random.choice(env.action_space.n, p=policy[state])\n",
    "        g = reward  # return\n",
    "        for state, action in state_actions:\n",
    "            c[state][action] += 1.\n",
    "            q[state][action] += (g - q[state][action]) / c[state][action]\n",
    "            a = q[state].argmax()\n",
    "            policy[state] = 0.\n",
    "            policy[state][a] = 1.\n",
    "    return policy, q"
   ],
   "id": "923c9694b8c2fdab",
   "outputs": [],
   "execution_count": 44
  },
  {
   "cell_type": "code",
   "metadata": {
    "ExecuteTime": {
     "end_time": "2025-06-23T11:13:37.662489Z",
     "start_time": "2025-06-23T11:13:11.965218Z"
    }
   },
   "source": [
    "env.reset(seed=42)\n",
    "policy, q = monte_carlo_with_exploring_start(env)\n",
    "v = q.max(axis=-1)"
   ],
   "id": "528d4aee42807db5",
   "outputs": [
    {
     "name": "stderr",
     "output_type": "stream",
     "text": [
      "100%|██████████| 500000/500000 [00:25<00:00, 19461.14it/s]\n"
     ]
    }
   ],
   "execution_count": 45
  },
  {
   "cell_type": "code",
   "metadata": {
    "ExecuteTime": {
     "end_time": "2025-06-23T11:29:41.493055Z",
     "start_time": "2025-06-23T11:29:41.278065Z"
    }
   },
   "source": [
    "plot(policy.argmax(-1))\n",
    "plot(v)"
   ],
   "id": "7360f140300e6dcb",
   "outputs": [
    {
     "data": {
      "text/plain": [
       "<Figure size 900x400 with 2 Axes>"
      ],
      "image/png": "[encoded data removed]"
     },
     "metadata": {},
     "output_type": "display_data"
    },
    {
     "data": {
      "text/plain": [
       "<Figure size 900x400 with 2 Axes>"
      ],
      "image/png": "[encoded data removed]"
     },
     "metadata": {},
     "output_type": "display_data"
    }
   ],
   "execution_count": 46
  },
  {
   "cell_type": "markdown",
   "metadata": {},
   "source": [
    "Monte Carlo update with soft poicy"
   ],
   "id": "545396c7a0a66eca"
  },
  {
   "cell_type": "code",
   "metadata": {
    "ExecuteTime": {
     "end_time": "2025-06-23T11:29:43.234962Z",
     "start_time": "2025-06-23T11:29:43.230903Z"
    }
   },
   "source": [
    "def monte_carlo_with_soft(env, episode_num=500000, epsilon=0.1):\n",
    "    policy = np.ones((22, 11, 2, 2)) * 0.5  # soft policy\n",
    "    q = np.zeros_like(policy)  # action values\n",
    "    c = np.zeros_like(policy)  # counts\n",
    "    for _ in tqdm(range(episode_num)):\n",
    "        # play an episode\n",
    "        state_actions = []\n",
    "        observation, _ = env.reset()\n",
    "        while True:\n",
    "            state = ob2state(observation)\n",
    "            action = np.random.choice(env.action_space.n, p=policy[state])\n",
    "            state_actions.append((state, action))\n",
    "            observation, reward, terminated, truncated, _ = env.step(action)\n",
    "            if terminated or truncated:\n",
    "                break  # end of episode\n",
    "        g = reward  # return\n",
    "        for state, action in state_actions:\n",
    "            c[state][action] += 1.\n",
    "            q[state][action] += (g - q[state][action]) / c[state][action]\n",
    "            # soft update\n",
    "            a = q[state].argmax()\n",
    "            policy[state] = epsilon / 2.\n",
    "            policy[state][a] += (1. - epsilon)\n",
    "    return policy, q"
   ],
   "id": "6ccab66064510d28",
   "outputs": [],
   "execution_count": 47
  },
  {
   "cell_type": "code",
   "metadata": {
    "ExecuteTime": {
     "end_time": "2025-06-23T11:30:14.337464Z",
     "start_time": "2025-06-23T11:29:45.298847Z"
    }
   },
   "source": [
    "env.reset(seed=42)\n",
    "policy, q = monte_carlo_with_soft(env)\n",
    "v = q.max(axis=-1)"
   ],
   "id": "ab6da2a8df0b256c",
   "outputs": [
    {
     "name": "stderr",
     "output_type": "stream",
     "text": [
      "100%|██████████| 500000/500000 [00:29<00:00, 17220.60it/s]\n"
     ]
    }
   ],
   "execution_count": 48
  },
  {
   "cell_type": "code",
   "metadata": {
    "scrolled": true,
    "ExecuteTime": {
     "end_time": "2025-06-23T11:30:18.939263Z",
     "start_time": "2025-06-23T11:30:18.721778Z"
    }
   },
   "source": [
    "plot(policy.argmax(-1))\n",
    "plot(v)"
   ],
   "id": "47ca7011c6b62dab",
   "outputs": [
    {
     "data": {
      "text/plain": [
       "<Figure size 900x400 with 2 Axes>"
      ],
      "image/png": "[encoded data removed]"
     },
     "metadata": {},
     "output_type": "display_data"
    },
    {
     "data": {
      "text/plain": [
       "<Figure size 900x400 with 2 Axes>"
      ],
      "image/png": "[encoded data removed]"
     },
     "metadata": {},
     "output_type": "display_data"
    }
   ],
   "execution_count": 49
  },
  {
   "cell_type": "markdown",
   "metadata": {},
   "source": [
    "Test Policy"
   ],
   "id": "6192eccf26344a1a"
  },
  {
   "cell_type": "code",
   "metadata": {
    "ExecuteTime": {
     "end_time": "2025-06-23T11:30:23.970185Z",
     "start_time": "2025-06-23T11:30:23.921546Z"
    }
   },
   "source": [
    "episode_rewards = []\n",
    "env.reset(seed=42)\n",
    "for episode in range(100):\n",
    "    episode_reward, elapsed_steps = play_policy(env, policy)\n",
    "    episode_rewards.append(episode_reward)\n",
    "    logging.info('test episode %d: reward = %.2f, steps = %d',\n",
    "            episode, episode_reward, elapsed_steps)\n",
    "logging.info('average episode reward = %.2f ± %.2f',\n",
    "        np.mean(episode_rewards), np.std(episode_rewards))"
   ],
   "id": "b3694c01cb68f351",
   "outputs": [
    {
     "name": "stdout",
     "output_type": "stream",
     "text": [
      "21:30:23 [INFO] test episode 0: reward = -1.00, steps = 1\n",
      "21:30:23 [INFO] test episode 1: reward = 0.00, steps = 1\n",
      "21:30:23 [INFO] test episode 2: reward = -1.00, steps = 1\n",
      "21:30:23 [INFO] test episode 3: reward = -1.00, steps = 1\n",
      "21:30:23 [INFO] test episode 4: reward = 1.00, steps = 1\n",
      "21:30:23 [INFO] test episode 5: reward = 1.00, steps = 2\n",
      "21:30:23 [INFO] test episode 6: reward = 0.00, steps = 1\n",
      "21:30:23 [INFO] test episode 7: reward = 1.00, steps = 2\n",
      "21:30:23 [INFO] test episode 8: reward = 1.00, steps = 2\n",
      "21:30:23 [INFO] test episode 9: reward = -1.00, steps = 2\n",
      "21:30:23 [INFO] test episode 10: reward = -1.00, steps = 1\n",
      "21:30:23 [INFO] test episode 11: reward = -1.00, steps = 1\n",
      "21:30:23 [INFO] test episode 12: reward = -1.00, steps = 2\n",
      "21:30:23 [INFO] test episode 13: reward = -1.00, steps = 1\n",
      "21:30:23 [INFO] test episode 14: reward = 1.00, steps = 2\n",
      "21:30:23 [INFO] test episode 15: reward = -1.00, steps = 1\n",
      "21:30:23 [INFO] test episode 16: reward = 1.00, steps = 2\n",
      "21:30:23 [INFO] test episode 17: reward = 1.00, steps = 3\n",
      "21:30:23 [INFO] test episode 18: reward = -1.00, steps = 1\n",
      "21:30:23 [INFO] test episode 19: reward = -1.00, steps = 1\n",
      "21:30:23 [INFO] test episode 20: reward = -1.00, steps = 2\n",
      "21:30:23 [INFO] test episode 21: reward = 1.00, steps = 2\n",
      "21:30:23 [INFO] test episode 22: reward = 1.00, steps = 1\n",
      "21:30:23 [INFO] test episode 23: reward = -1.00, steps = 1\n",
      "21:30:23 [INFO] test episode 24: reward = -1.00, steps = 1\n",
      "21:30:23 [INFO] test episode 25: reward = 0.00, steps = 3\n",
      "21:30:23 [INFO] test episode 26: reward = -1.00, steps = 1\n",
      "21:30:23 [INFO] test episode 27: reward = -1.00, steps = 1\n",
      "21:30:23 [INFO] test episode 28: reward = 1.00, steps = 1\n",
      "21:30:23 [INFO] test episode 29: reward = -1.00, steps = 2\n",
      "21:30:23 [INFO] test episode 30: reward = 1.00, steps = 2\n",
      "21:30:23 [INFO] test episode 31: reward = -1.00, steps = 1\n",
      "21:30:23 [INFO] test episode 32: reward = -1.00, steps = 3\n",
      "21:30:23 [INFO] test episode 33: reward = -1.00, steps = 1\n",
      "21:30:23 [INFO] test episode 34: reward = 1.00, steps = 1\n",
      "21:30:23 [INFO] test episode 35: reward = 0.00, steps = 2\n",
      "21:30:23 [INFO] test episode 36: reward = -1.00, steps = 2\n",
      "21:30:23 [INFO] test episode 37: reward = 1.00, steps = 2\n",
      "21:30:23 [INFO] test episode 38: reward = -1.00, steps = 1\n",
      "21:30:23 [INFO] test episode 39: reward = -1.00, steps = 3\n",
      "21:30:23 [INFO] test episode 40: reward = 1.00, steps = 1\n",
      "21:30:23 [INFO] test episode 41: reward = -1.00, steps = 2\n",
      "21:30:23 [INFO] test episode 42: reward = -1.00, steps = 1\n",
      "21:30:23 [INFO] test episode 43: reward = -1.00, steps = 2\n",
      "21:30:23 [INFO] test episode 44: reward = -1.00, steps = 1\n",
      "21:30:23 [INFO] test episode 45: reward = 0.00, steps = 3\n",
      "21:30:23 [INFO] test episode 46: reward = 1.00, steps = 1\n",
      "21:30:23 [INFO] test episode 47: reward = 1.00, steps = 1\n",
      "21:30:23 [INFO] test episode 48: reward = 1.00, steps = 2\n",
      "21:30:23 [INFO] test episode 49: reward = -1.00, steps = 1\n",
      "21:30:23 [INFO] test episode 50: reward = 1.00, steps = 3\n",
      "21:30:23 [INFO] test episode 51: reward = 1.00, steps = 2\n",
      "21:30:23 [INFO] test episode 52: reward = 1.00, steps = 1\n",
      "21:30:23 [INFO] test episode 53: reward = 1.00, steps = 2\n",
      "21:30:23 [INFO] test episode 54: reward = 1.00, steps = 2\n",
      "21:30:23 [INFO] test episode 55: reward = 1.00, steps = 2\n",
      "21:30:23 [INFO] test episode 56: reward = -1.00, steps = 1\n",
      "21:30:23 [INFO] test episode 57: reward = -1.00, steps = 1\n",
      "21:30:23 [INFO] test episode 58: reward = 1.00, steps = 1\n",
      "21:30:23 [INFO] test episode 59: reward = 1.00, steps = 2\n",
      "21:30:23 [INFO] test episode 60: reward = -1.00, steps = 2\n",
      "21:30:23 [INFO] test episode 61: reward = -1.00, steps = 1\n",
      "21:30:23 [INFO] test episode 62: reward = 1.00, steps = 1\n",
      "21:30:23 [INFO] test episode 63: reward = 1.00, steps = 3\n",
      "21:30:23 [INFO] test episode 64: reward = 1.00, steps = 2\n",
      "21:30:23 [INFO] test episode 65: reward = 1.00, steps = 1\n",
      "21:30:23 [INFO] test episode 66: reward = -1.00, steps = 1\n",
      "21:30:23 [INFO] test episode 67: reward = 1.00, steps = 1\n",
      "21:30:23 [INFO] test episode 68: reward = 0.00, steps = 1\n",
      "21:30:23 [INFO] test episode 69: reward = 1.00, steps = 1\n",
      "21:30:23 [INFO] test episode 70: reward = -1.00, steps = 1\n",
      "21:30:23 [INFO] test episode 71: reward = 1.00, steps = 1\n",
      "21:30:23 [INFO] test episode 72: reward = 1.00, steps = 2\n",
      "21:30:23 [INFO] test episode 73: reward = 1.00, steps = 1\n",
      "21:30:23 [INFO] test episode 74: reward = -1.00, steps = 2\n",
      "21:30:23 [INFO] test episode 75: reward = 0.00, steps = 2\n",
      "21:30:23 [INFO] test episode 76: reward = 1.00, steps = 1\n",
      "21:30:23 [INFO] test episode 77: reward = -1.00, steps = 1\n",
      "21:30:23 [INFO] test episode 78: reward = -1.00, steps = 1\n",
      "21:30:23 [INFO] test episode 79: reward = -1.00, steps = 3\n",
      "21:30:23 [INFO] test episode 80: reward = -1.00, steps = 1\n",
      "21:30:23 [INFO] test episode 81: reward = 1.00, steps = 1\n",
      "21:30:23 [INFO] test episode 82: reward = -1.00, steps = 3\n",
      "21:30:23 [INFO] test episode 83: reward = 1.00, steps = 1\n",
      "21:30:23 [INFO] test episode 84: reward = 1.00, steps = 1\n",
      "21:30:23 [INFO] test episode 85: reward = 1.00, steps = 1\n",
      "21:30:23 [INFO] test episode 86: reward = -1.00, steps = 1\n",
      "21:30:23 [INFO] test episode 87: reward = -1.00, steps = 1\n",
      "21:30:23 [INFO] test episode 88: reward = 1.00, steps = 1\n",
      "21:30:23 [INFO] test episode 89: reward = -1.00, steps = 1\n",
      "21:30:23 [INFO] test episode 90: reward = 1.00, steps = 2\n",
      "21:30:23 [INFO] test episode 91: reward = -1.00, steps = 1\n",
      "21:30:23 [INFO] test episode 92: reward = 1.00, steps = 2\n",
      "21:30:23 [INFO] test episode 93: reward = 1.00, steps = 1\n",
      "21:30:23 [INFO] test episode 94: reward = -1.00, steps = 1\n",
      "21:30:23 [INFO] test episode 95: reward = 1.00, steps = 2\n",
      "21:30:23 [INFO] test episode 96: reward = 0.00, steps = 3\n",
      "21:30:23 [INFO] test episode 97: reward = -1.00, steps = 1\n",
      "21:30:23 [INFO] test episode 98: reward = -1.00, steps = 1\n",
      "21:30:23 [INFO] test episode 99: reward = -1.00, steps = 2\n",
      "21:30:23 [INFO] average episode reward = -0.04 ± 0.96\n"
     ]
    }
   ],
   "execution_count": 50
  },
  {
   "cell_type": "markdown",
   "metadata": {
    "collapsed": true
   },
   "source": [
    "### Off-Policy Monte Carlo Update\n",
    "\n",
    "Monte Carlo evaluation with importance sampling"
   ],
   "id": "7d8e2ca171c826f9"
  },
  {
   "cell_type": "code",
   "metadata": {
    "ExecuteTime": {
     "end_time": "2025-06-23T11:30:30.737941Z",
     "start_time": "2025-06-23T11:30:30.733779Z"
    }
   },
   "source": [
    "def evaluate_monte_carlo_importance_sample(env, policy, behavior_policy,\n",
    "        episode_num=500000):\n",
    "    q = np.zeros_like(policy)  # action values\n",
    "    c = np.zeros_like(policy)  # counts\n",
    "    for _ in tqdm(range(episode_num)):\n",
    "        # play episode using behavior policy\n",
    "        state_actions = []\n",
    "        observation, _ = env.reset()\n",
    "        while True:\n",
    "            state = ob2state(observation)\n",
    "            action = np.random.choice(env.action_space.n,\n",
    "                    p=behavior_policy[state])\n",
    "            state_actions.append((state, action))\n",
    "            observation, reward, terminated, truncated, _ = env.step(action)\n",
    "            if terminated or truncated:\n",
    "                break  # finish the episode\n",
    "        g = reward  # return\n",
    "        rho = 1.  # importance sampling ratio\n",
    "        for state, action in reversed(state_actions):\n",
    "            c[state][action] += rho\n",
    "            q[state][action] += (rho / c[state][action] * (g - q[state][action]))\n",
    "            rho *= (policy[state][action] / behavior_policy[state][action])\n",
    "            if rho == 0:\n",
    "                break  # early stop\n",
    "    return q"
   ],
   "id": "368f8b2e5ac274ec",
   "outputs": [],
   "execution_count": 51
  },
  {
   "cell_type": "code",
   "metadata": {
    "ExecuteTime": {
     "end_time": "2025-06-23T11:30:59.175761Z",
     "start_time": "2025-06-23T11:30:32.909546Z"
    }
   },
   "source": [
    "env.reset(seed=42)\n",
    "policy = np.zeros((22, 11, 2, 2))\n",
    "policy[20:, :, :, 0] = 1  # stand when >=20\n",
    "policy[:20, :, :, 1] = 1  # hit when <20\n",
    "behavior_policy = np.ones_like(policy) * 0.5\n",
    "q = evaluate_monte_carlo_importance_sample(env, policy, behavior_policy)\n",
    "v = (q * policy).sum(axis=-1)"
   ],
   "id": "f86d056bc7ba5a6f",
   "outputs": [
    {
     "name": "stderr",
     "output_type": "stream",
     "text": [
      "100%|██████████| 500000/500000 [00:26<00:00, 19039.40it/s]\n"
     ]
    }
   ],
   "execution_count": 52
  },
  {
   "cell_type": "code",
   "metadata": {
    "ExecuteTime": {
     "end_time": "2025-06-23T11:31:02.099771Z",
     "start_time": "2025-06-23T11:31:01.991240Z"
    }
   },
   "source": [
    "plot(v)"
   ],
   "id": "9caf434a84ac5005",
   "outputs": [
    {
     "data": {
      "text/plain": [
       "<Figure size 900x400 with 2 Axes>"
      ],
      "image/png": "[encoded data removed]"
     },
     "metadata": {},
     "output_type": "display_data"
    }
   ],
   "execution_count": 53
  },
  {
   "cell_type": "markdown",
   "metadata": {},
   "source": [
    "Monte Carlo update with importance sampling"
   ],
   "id": "9729f588aea98bff"
  },
  {
   "cell_type": "code",
   "metadata": {
    "ExecuteTime": {
     "end_time": "2025-06-23T11:31:04.924153Z",
     "start_time": "2025-06-23T11:31:04.920206Z"
    }
   },
   "source": [
    "def monte_carlo_importance_sample(env, episode_num=500000):\n",
    "    policy = np.zeros((22, 11, 2, 2))\n",
    "    policy[:, :, :, 0] = 1.\n",
    "    behavior_policy = np.ones_like(policy) * 0.5  # soft policy\n",
    "    q = np.zeros_like(policy)  # action values\n",
    "    c = np.zeros_like(policy)  # counts\n",
    "    for _ in tqdm(range(episode_num)):\n",
    "        # play using behavior policy\n",
    "        state_actions = []\n",
    "        observation, _ = env.reset()\n",
    "        while True:\n",
    "            state = ob2state(observation)\n",
    "            action = np.random.choice(env.action_space.n,\n",
    "                    p=behavior_policy[state])\n",
    "            state_actions.append((state, action))\n",
    "            observation, reward, terminated, truncated, _ = env.step(action)\n",
    "            if terminated or truncated:\n",
    "                break  # finish the episode\n",
    "        g = reward  # return\n",
    "        rho = 1.  # importance sampling ratio\n",
    "        for state, action in reversed(state_actions):\n",
    "            c[state][action] += rho\n",
    "            q[state][action] += (rho / c[state][action] * (g - q[state][action]))\n",
    "            # improve the policy\n",
    "            a = q[state].argmax()\n",
    "            policy[state] = 0.\n",
    "            policy[state][a] = 1.\n",
    "            if a != action:  # early stop\n",
    "                break\n",
    "            rho /= behavior_policy[state][action]\n",
    "    return policy, q"
   ],
   "id": "37e57b793aee9b69",
   "outputs": [],
   "execution_count": 54
  },
  {
   "cell_type": "code",
   "metadata": {
    "ExecuteTime": {
     "end_time": "2025-06-23T11:31:34.099405Z",
     "start_time": "2025-06-23T11:31:07.101528Z"
    }
   },
   "source": [
    "env.reset(seed=42)\n",
    "policy, q = monte_carlo_importance_sample(env)\n",
    "v = q.max(axis=-1)"
   ],
   "id": "6313cdb271bf68b3",
   "outputs": [
    {
     "name": "stderr",
     "output_type": "stream",
     "text": [
      "100%|██████████| 500000/500000 [00:26<00:00, 18523.49it/s]\n"
     ]
    }
   ],
   "execution_count": 55
  },
  {
   "cell_type": "code",
   "metadata": {
    "scrolled": true,
    "ExecuteTime": {
     "end_time": "2025-06-23T11:31:37.730420Z",
     "start_time": "2025-06-23T11:31:37.516996Z"
    }
   },
   "source": [
    "plot(policy.argmax(-1))\n",
    "plot(v)"
   ],
   "id": "64bb7cbfb331a98f",
   "outputs": [
    {
     "data": {
      "text/plain": [
       "<Figure size 900x400 with 2 Axes>"
      ],
      "image/png": "[encoded data removed]"
     },
     "metadata": {},
     "output_type": "display_data"
    },
    {
     "data": {
      "text/plain": [
       "<Figure size 900x400 with 2 Axes>"
      ],
      "image/png": "[encoded data removed]"
     },
     "metadata": {},
     "output_type": "display_data"
    }
   ],
   "execution_count": 56
  },
  {
   "cell_type": "markdown",
   "metadata": {},
   "source": [
    "Test Policy"
   ],
   "id": "37699e74b56accc7"
  },
  {
   "cell_type": "code",
   "metadata": {
    "ExecuteTime": {
     "end_time": "2025-06-23T11:33:22.427832Z",
     "start_time": "2025-06-23T11:33:22.416535Z"
    }
   },
   "source": [
    "episode_rewards = []\n",
    "env.reset(seed=42)\n",
    "for episode in range(100):\n",
    "    episode_reward, elapsed_steps = play_policy(env, policy)\n",
    "    episode_rewards.append(episode_reward)\n",
    "    #logging.info('test episode %d: reward = %.2f, steps = %d',\n",
    "    #        episode, episode_reward, elapsed_steps)\n",
    "logging.info('average episode reward = %.2f ± %.2f',\n",
    "        np.mean(episode_rewards), np.std(episode_rewards))"
   ],
   "id": "e0cbe7a196dc2405",
   "outputs": [
    {
     "name": "stdout",
     "output_type": "stream",
     "text": [
      "21:33:22 [INFO] average episode reward = -0.15 ± 0.91\n"
     ]
    }
   ],
   "execution_count": 59
  },
  {
   "cell_type": "code",
   "metadata": {
    "ExecuteTime": {
     "end_time": "2025-06-23T11:31:44.452259Z",
     "start_time": "2025-06-23T11:31:44.449714Z"
    }
   },
   "source": [
    "env.close()"
   ],
   "id": "e93088f5cc4de74b",
   "outputs": [],
   "execution_count": 58
  },
  {
   "metadata": {},
   "cell_type": "code",
   "outputs": [],
   "execution_count": null,
   "source": "",
   "id": "fe648d2bf75a9167"
  }
 ],
 "metadata": {
  "kernelspec": {
   "display_name": "Python 3 (ipykernel)",
   "language": "python",
   "name": "python3"
  },
  "language_info": {
   "codemirror_mode": {
    "name": "ipython",
    "version": 3
   },
   "file_extension": ".py",
   "mimetype": "text/x-python",
   "name": "python",
   "nbconvert_exporter": "python",
   "pygments_lexer": "ipython3",
   "version": "3.10.4"
  }
 },
 "nbformat": 4,
 "nbformat_minor": 5
}
