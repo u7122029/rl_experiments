{
 "cells": [
  {
   "cell_type": "code",
   "id": "initial_id",
   "metadata": {
    "collapsed": true,
    "ExecuteTime": {
     "end_time": "2025-06-20T13:18:31.243383Z",
     "start_time": "2025-06-20T13:18:30.749548Z"
    }
   },
   "source": [
    "import gymnasium as gym\n",
    "import numpy as np\n",
    "from tqdm import tqdm\n",
    "import matplotlib.pyplot as plt"
   ],
   "outputs": [],
   "execution_count": 32
  },
  {
   "metadata": {
    "ExecuteTime": {
     "end_time": "2025-06-19T11:08:27.307250Z",
     "start_time": "2025-06-19T11:08:27.298007Z"
    }
   },
   "cell_type": "code",
   "source": "env = gym.make('Blackjack-v1')",
   "id": "6dfe1f30cc1e7831",
   "outputs": [],
   "execution_count": 2
  },
  {
   "metadata": {
    "ExecuteTime": {
     "end_time": "2025-06-22T03:15:59.009232Z",
     "start_time": "2025-06-22T03:15:59.006062Z"
    }
   },
   "cell_type": "code",
   "source": [
    "# Resetting with a seed once will make the subsequent starting observations the same.\n",
    "observation, _ = env.reset(seed=42)\n",
    "print(observation)\n",
    "observation, _ = env.reset()\n",
    "print(observation)\n",
    "observation, _ = env.reset()\n",
    "print(observation)"
   ],
   "id": "c615a7066c733706",
   "outputs": [
    {
     "name": "stdout",
     "output_type": "stream",
     "text": [
      "(15, 2, 0)\n",
      "(13, 10, 0)\n",
      "(20, 10, 0)\n"
     ]
    }
   ],
   "execution_count": 74
  },
  {
   "metadata": {
    "ExecuteTime": {
     "end_time": "2025-06-19T17:19:00.056076Z",
     "start_time": "2025-06-19T17:19:00.049618Z"
    }
   },
   "cell_type": "code",
   "source": [
    "observation2state = lambda x: (x[0], x[1], int(x[2]))\n",
    "\n",
    "def play_policy(env, policy=None, verbose=False):\n",
    "    observation, _ = env.reset()\n",
    "    #reward, terminated, truncated = 0, False, False\n",
    "    episode_reward, elapsed_steps = 0, 0\n",
    "\n",
    "    while True:\n",
    "        if policy is None:\n",
    "            action = env.action_space.sample()\n",
    "        else:\n",
    "            state = observation2state(observation)\n",
    "            action = np.random.choice(env.action_space.n, p=policy[state])\n",
    "        observation, reward, terminated, truncated, _ = env.step(action)\n",
    "        episode_reward += reward\n",
    "        elapsed_steps += 1\n",
    "        if terminated or truncated:\n",
    "            break\n",
    "    return episode_reward, elapsed_steps\n"
   ],
   "id": "86bb4037e6395c1a",
   "outputs": [],
   "execution_count": 5
  },
  {
   "metadata": {
    "ExecuteTime": {
     "end_time": "2025-06-19T17:21:40.083666Z",
     "start_time": "2025-06-19T17:21:40.079702Z"
    }
   },
   "cell_type": "code",
   "source": [
    "episode_reward, elapsed_steps = play_policy(env, verbose=True)\n",
    "episode_reward, elapsed_steps"
   ],
   "id": "be81e63b0db3f1c",
   "outputs": [
    {
     "data": {
      "text/plain": [
       "(-1.0, 2)"
      ]
     },
     "execution_count": 8,
     "metadata": {},
     "output_type": "execute_result"
    }
   ],
   "execution_count": 8
  },
  {
   "metadata": {
    "ExecuteTime": {
     "end_time": "2025-06-22T03:14:18.387217Z",
     "start_time": "2025-06-22T03:14:18.384237Z"
    }
   },
   "cell_type": "code",
   "source": [
    "def test_policy(trials, env, policy=None):\n",
    "    rewards = [play_policy(env, policy=policy)[0] for _ in tqdm(range(trials))]\n",
    "    return np.mean(rewards), np.std(rewards)"
   ],
   "id": "893c5181bdbcc373",
   "outputs": [],
   "execution_count": 66
  },
  {
   "metadata": {
    "ExecuteTime": {
     "end_time": "2025-06-22T03:14:30.817856Z",
     "start_time": "2025-06-22T03:14:30.772082Z"
    }
   },
   "cell_type": "code",
   "source": "test_policy(1000, env)",
   "id": "e50dd4bb00878735",
   "outputs": [
    {
     "name": "stderr",
     "output_type": "stream",
     "text": [
      "100%|██████████| 1000/1000 [00:00<00:00, 24191.95it/s]\n"
     ]
    },
    {
     "data": {
      "text/plain": [
       "(np.float64(-0.385), np.float64(0.9059663349153765))"
      ]
     },
     "execution_count": 67,
     "metadata": {},
     "output_type": "execute_result"
    }
   ],
   "execution_count": 67
  },
  {
   "metadata": {},
   "cell_type": "markdown",
   "source": [
    "## On-Policy Policy Evaluation\n",
    "- No duplicate states in each trajectory/episode\n",
    "- Only reward of last step is nonzero\n",
    "\n",
    "These allow the following simplifications:\n",
    "- Since every state will be visited only once, there is no need to distinguish between every-visit and first-visit.\n",
    "- When discount factor $\\gamma = 1$, the reward in the last step is the episode return. We do not need to calculate the episode return in reversed order."
   ],
   "id": "e6c1f5c744fa32dd"
  },
  {
   "metadata": {
    "ExecuteTime": {
     "end_time": "2025-06-22T03:17:00.237867Z",
     "start_time": "2025-06-22T03:17:00.234966Z"
    }
   },
   "cell_type": "code",
   "source": [
    "def evaluate_action_mc_original(env, policy, episode_num=500000):\n",
    "    q = np.zeros_like(policy)  # action value\n",
    "    c = np.zeros_like(policy)  # count\n",
    "    for _ in tqdm(range(episode_num)):\n",
    "        # play an episode\n",
    "        state_actions = []\n",
    "        observation, _ = env.reset()\n",
    "        while True:\n",
    "            state = observation2state(observation)\n",
    "            action = np.random.choice(env.action_space.n, p=policy[state])\n",
    "            state_actions.append((state, action))\n",
    "            observation, reward, terminated, truncated, _ = env.step(action)\n",
    "            if terminated or truncated:\n",
    "                break  # end of episode\n",
    "        g = reward  # return\n",
    "        for state, action in state_actions:\n",
    "            c[state][action] += 1.\n",
    "            q[state][action] += (g - q[state][action]) / c[state][action]\n",
    "    return q"
   ],
   "id": "923d69ed886a7178",
   "outputs": [],
   "execution_count": 75
  },
  {
   "metadata": {
    "ExecuteTime": {
     "end_time": "2025-06-22T03:17:01.131631Z",
     "start_time": "2025-06-22T03:17:01.128236Z"
    }
   },
   "cell_type": "code",
   "source": [
    "def evaluate_action_mc_ours(env, policy, episode_num=500000):\n",
    "    q = np.zeros(policy.shape)\n",
    "    c = np.zeros(policy.shape)\n",
    "    for _ in tqdm(range(episode_num)):\n",
    "        #states = []\n",
    "        players = []\n",
    "        dealers = []\n",
    "        usable_aces = []\n",
    "        actions = []\n",
    "\n",
    "        observation, _ = env.reset()\n",
    "        while True:\n",
    "            player, dealer, usable_ace = observation2state(observation)\n",
    "            action = np.random.choice(env.action_space.n, p=policy[player, dealer, usable_ace])\n",
    "\n",
    "            players.append(player)\n",
    "            dealers.append(dealer)\n",
    "            usable_aces.append(usable_ace)\n",
    "            actions.append(action)\n",
    "\n",
    "            observation, reward, terminated, truncated, _ = env.step(action)\n",
    "            if terminated or truncated:\n",
    "                break\n",
    "        g = reward\n",
    "\n",
    "        players = np.array(players)\n",
    "        dealers = np.array(dealers)\n",
    "        usable_aces = np.array(usable_aces)\n",
    "        actions = np.array(actions)\n",
    "        c[players, dealers, usable_aces, actions] += 1\n",
    "        q[players, dealers, usable_aces, actions] += (g - q[players, dealers, usable_aces, actions]) / c[players, dealers, usable_aces, actions]\n",
    "        #for state, action in state_actions:\n",
    "        #    q[state, action] += (g - q[state, action]) / c[state, action]\n",
    "    return q"
   ],
   "id": "4bfc92dbb2062fc9",
   "outputs": [],
   "execution_count": 76
  },
  {
   "metadata": {
    "ExecuteTime": {
     "end_time": "2025-06-22T03:22:47.742808Z",
     "start_time": "2025-06-22T03:22:17.593980Z"
    }
   },
   "cell_type": "code",
   "source": [
    "env.reset(seed=42)\n",
    "policy = np.zeros((22, 11, 2, 2))\n",
    "policy[20:, :, :, 0] = 1\n",
    "policy[:20, :, :, 1] = 1\n",
    "q = evaluate_action_mc_original(env, policy)\n",
    "v = np.sum(q * policy, axis=-1)"
   ],
   "id": "6d4fcf77176e5cc7",
   "outputs": [
    {
     "name": "stderr",
     "output_type": "stream",
     "text": [
      "100%|██████████| 500000/500000 [00:30<00:00, 16586.64it/s]\n"
     ]
    }
   ],
   "execution_count": 83
  },
  {
   "metadata": {
    "ExecuteTime": {
     "end_time": "2025-06-22T03:18:18.695243Z",
     "start_time": "2025-06-22T03:17:44.443184Z"
    }
   },
   "cell_type": "code",
   "source": [
    "env.reset(seed=42)\n",
    "policy = np.zeros((22, 11, 2, 2))\n",
    "policy[20:, :, :, 0] = 1\n",
    "policy[:20, :, :, 1] = 1\n",
    "q = evaluate_action_mc_ours(env, policy)\n",
    "v = np.sum(q * policy, axis=-1)"
   ],
   "id": "c1f8779660d75e1c",
   "outputs": [
    {
     "name": "stderr",
     "output_type": "stream",
     "text": [
      "100%|██████████| 500000/500000 [00:34<00:00, 14601.17it/s]\n"
     ]
    },
    {
     "data": {
      "text/plain": [
       "array([[[ 0.        ,  0.        ],\n",
       "        [ 0.        ,  0.        ],\n",
       "        [ 0.        ,  0.        ],\n",
       "        [ 0.        ,  0.        ],\n",
       "        [ 0.        ,  0.        ],\n",
       "        [ 0.        ,  0.        ],\n",
       "        [ 0.        ,  0.        ],\n",
       "        [ 0.        ,  0.        ],\n",
       "        [ 0.        ,  0.        ],\n",
       "        [ 0.        ,  0.        ],\n",
       "        [ 0.        ,  0.        ]],\n",
       "\n",
       "       [[ 0.        ,  0.        ],\n",
       "        [ 0.        ,  0.        ],\n",
       "        [ 0.        ,  0.        ],\n",
       "        [ 0.        ,  0.        ],\n",
       "        [ 0.        ,  0.        ],\n",
       "        [ 0.        ,  0.        ],\n",
       "        [ 0.        ,  0.        ],\n",
       "        [ 0.        ,  0.        ],\n",
       "        [ 0.        ,  0.        ],\n",
       "        [ 0.        ,  0.        ],\n",
       "        [ 0.        ,  0.        ]],\n",
       "\n",
       "       [[ 0.        ,  0.        ],\n",
       "        [ 0.        ,  0.        ],\n",
       "        [ 0.        ,  0.        ],\n",
       "        [ 0.        ,  0.        ],\n",
       "        [ 0.        ,  0.        ],\n",
       "        [ 0.        ,  0.        ],\n",
       "        [ 0.        ,  0.        ],\n",
       "        [ 0.        ,  0.        ],\n",
       "        [ 0.        ,  0.        ],\n",
       "        [ 0.        ,  0.        ],\n",
       "        [ 0.        ,  0.        ]],\n",
       "\n",
       "       [[ 0.        ,  0.        ],\n",
       "        [ 0.        ,  0.        ],\n",
       "        [ 0.        ,  0.        ],\n",
       "        [ 0.        ,  0.        ],\n",
       "        [ 0.        ,  0.        ],\n",
       "        [ 0.        ,  0.        ],\n",
       "        [ 0.        ,  0.        ],\n",
       "        [ 0.        ,  0.        ],\n",
       "        [ 0.        ,  0.        ],\n",
       "        [ 0.        ,  0.        ],\n",
       "        [ 0.        ,  0.        ]],\n",
       "\n",
       "       [[ 0.        ,  0.        ],\n",
       "        [-0.61883408,  0.        ],\n",
       "        [-0.57971014,  0.        ],\n",
       "        [-0.48780488,  0.        ],\n",
       "        [-0.53960396,  0.        ],\n",
       "        [-0.4496124 ,  0.        ],\n",
       "        [-0.33905579,  0.        ],\n",
       "        [-0.40963855,  0.        ],\n",
       "        [-0.45714286,  0.        ],\n",
       "        [-0.57416268,  0.        ],\n",
       "        [-0.52041885,  0.        ]],\n",
       "\n",
       "       [[ 0.        ,  0.        ],\n",
       "        [-0.59144893,  0.        ],\n",
       "        [-0.48965517,  0.        ],\n",
       "        [-0.52890792,  0.        ],\n",
       "        [-0.48785872,  0.        ],\n",
       "        [-0.48739496,  0.        ],\n",
       "        [-0.47123894,  0.        ],\n",
       "        [-0.42626728,  0.        ],\n",
       "        [-0.53181818,  0.        ],\n",
       "        [-0.54739336,  0.        ],\n",
       "        [-0.58071506,  0.        ]],\n",
       "\n",
       "       [[ 0.        ,  0.        ],\n",
       "        [-0.6071964 ,  0.        ],\n",
       "        [-0.47450425,  0.        ],\n",
       "        [-0.51785714,  0.        ],\n",
       "        [-0.60677467,  0.        ],\n",
       "        [-0.47169811,  0.        ],\n",
       "        [-0.50213371,  0.        ],\n",
       "        [-0.5097493 ,  0.        ],\n",
       "        [-0.48976608,  0.        ],\n",
       "        [-0.47159091,  0.        ],\n",
       "        [-0.55511811,  0.        ]],\n",
       "\n",
       "       [[ 0.        ,  0.        ],\n",
       "        [-0.65231432,  0.        ],\n",
       "        [-0.50824742,  0.        ],\n",
       "        [-0.58122363,  0.        ],\n",
       "        [-0.53618756,  0.        ],\n",
       "        [-0.53680982,  0.        ],\n",
       "        [-0.50459653,  0.        ],\n",
       "        [-0.5037037 ,  0.        ],\n",
       "        [-0.52702703,  0.        ],\n",
       "        [-0.5187638 ,  0.        ],\n",
       "        [-0.56939139,  0.        ]],\n",
       "\n",
       "       [[ 0.        ,  0.        ],\n",
       "        [-0.61147011,  0.        ],\n",
       "        [-0.56771654,  0.        ],\n",
       "        [-0.55616225,  0.        ],\n",
       "        [-0.55066771,  0.        ],\n",
       "        [-0.59028961,  0.        ],\n",
       "        [-0.53003247,  0.        ],\n",
       "        [-0.50079618,  0.        ],\n",
       "        [-0.49880858,  0.        ],\n",
       "        [-0.5254902 ,  0.        ],\n",
       "        [-0.5636004 ,  0.        ]],\n",
       "\n",
       "       [[ 0.        ,  0.        ],\n",
       "        [-0.63869315,  0.        ],\n",
       "        [-0.52575251,  0.        ],\n",
       "        [-0.51680406,  0.        ],\n",
       "        [-0.47612643,  0.        ],\n",
       "        [-0.5323219 ,  0.        ],\n",
       "        [-0.52944984,  0.        ],\n",
       "        [-0.5028463 ,  0.        ],\n",
       "        [-0.4905783 ,  0.        ],\n",
       "        [-0.49460317,  0.        ],\n",
       "        [-0.55862633,  0.        ]],\n",
       "\n",
       "       [[ 0.        ,  0.        ],\n",
       "        [-0.35471898,  0.        ],\n",
       "        [-0.15080603,  0.        ],\n",
       "        [-0.11597259,  0.        ],\n",
       "        [-0.14610905,  0.        ],\n",
       "        [-0.11684783,  0.        ],\n",
       "        [-0.14088983,  0.        ],\n",
       "        [-0.08355941,  0.        ],\n",
       "        [-0.06995662,  0.        ],\n",
       "        [-0.09322034,  0.        ],\n",
       "        [-0.22299095,  0.        ]],\n",
       "\n",
       "       [[ 0.        ,  0.        ],\n",
       "        [-0.25515588,  0.        ],\n",
       "        [-0.08040422,  0.        ],\n",
       "        [-0.06378331,  0.        ],\n",
       "        [-0.06672678,  0.        ],\n",
       "        [-0.08298755,  0.        ],\n",
       "        [-0.06610842,  0.        ],\n",
       "        [-0.01895307,  0.        ],\n",
       "        [-0.01051188,  0.        ],\n",
       "        [-0.0341394 ,  0.        ],\n",
       "        [-0.09734006,  0.        ]],\n",
       "\n",
       "       [[ 0.        ,  0.        ],\n",
       "        [-0.6494577 , -0.51184834],\n",
       "        [-0.54083172, -0.24757282],\n",
       "        [-0.54067834, -0.23144105],\n",
       "        [-0.55587456, -0.29767442],\n",
       "        [-0.54944335, -0.24691358],\n",
       "        [-0.53935661, -0.26130653],\n",
       "        [-0.51918592, -0.2212766 ],\n",
       "        [-0.51243124, -0.12019231],\n",
       "        [-0.53494505, -0.23766816],\n",
       "        [-0.56896647, -0.27542857]],\n",
       "\n",
       "       [[ 0.        ,  0.        ],\n",
       "        [-0.6641541 , -0.47302905],\n",
       "        [-0.56892178, -0.28384279],\n",
       "        [-0.57379135, -0.28348214],\n",
       "        [-0.5787795 , -0.26638478],\n",
       "        [-0.56442246, -0.18046709],\n",
       "        [-0.58991856, -0.3446712 ],\n",
       "        [-0.53581238, -0.28205128],\n",
       "        [-0.52736639, -0.158     ],\n",
       "        [-0.54276596, -0.15502183],\n",
       "        [-0.60280499, -0.32875206]],\n",
       "\n",
       "       [[ 0.        ,  0.        ],\n",
       "        [-0.67223004, -0.48148148],\n",
       "        [-0.61148857, -0.33263158],\n",
       "        [-0.59405941, -0.21747967],\n",
       "        [-0.58978013, -0.33200795],\n",
       "        [-0.61599334, -0.22857143],\n",
       "        [-0.5953961 , -0.31156716],\n",
       "        [-0.58170757, -0.33271719],\n",
       "        [-0.59914495, -0.22845691],\n",
       "        [-0.60537569, -0.17959184],\n",
       "        [-0.62802105, -0.35029644]],\n",
       "\n",
       "       [[ 0.        ,  0.        ],\n",
       "        [-0.71302251, -0.46766169],\n",
       "        [-0.63733075, -0.35528596],\n",
       "        [-0.6421365 , -0.29908257],\n",
       "        [-0.64655172, -0.33011583],\n",
       "        [-0.6172549 , -0.28719723],\n",
       "        [-0.6386041 , -0.29744526],\n",
       "        [-0.61870647, -0.35144312],\n",
       "        [-0.61173021, -0.20792079],\n",
       "        [-0.60607878, -0.23037543],\n",
       "        [-0.65864256, -0.36010476]],\n",
       "\n",
       "       [[ 0.        ,  0.        ],\n",
       "        [-0.73728318, -0.55464927],\n",
       "        [-0.65429609, -0.28760331],\n",
       "        [-0.65796937, -0.33544304],\n",
       "        [-0.66985646, -0.37936267],\n",
       "        [-0.65979782, -0.35524257],\n",
       "        [-0.65555986, -0.31647635],\n",
       "        [-0.6403577 , -0.35901639],\n",
       "        [-0.6557534 , -0.28462709],\n",
       "        [-0.61295267, -0.32982456],\n",
       "        [-0.68457876, -0.40791051]],\n",
       "\n",
       "       [[ 0.        ,  0.        ],\n",
       "        [-0.75488918, -0.55909091],\n",
       "        [-0.68527074, -0.37089872],\n",
       "        [-0.67681543, -0.34119497],\n",
       "        [-0.67789553, -0.36645963],\n",
       "        [-0.68553216, -0.38373752],\n",
       "        [-0.68879112, -0.34428795],\n",
       "        [-0.66749049, -0.35755814],\n",
       "        [-0.67665913, -0.34711965],\n",
       "        [-0.65973976, -0.36139332],\n",
       "        [-0.71109754, -0.41107975]],\n",
       "\n",
       "       [[ 0.        ,  0.        ],\n",
       "        [-0.77726175, -0.49449036],\n",
       "        [-0.69898232, -0.37795276],\n",
       "        [-0.71132318, -0.45038168],\n",
       "        [-0.69923858, -0.38412292],\n",
       "        [-0.71165986, -0.43966713],\n",
       "        [-0.70216673, -0.42782152],\n",
       "        [-0.6949946 , -0.3951094 ],\n",
       "        [-0.66642066, -0.34986595],\n",
       "        [-0.69641248, -0.35862069],\n",
       "        [-0.72390788, -0.44328509]],\n",
       "\n",
       "       [[ 0.        ,  0.        ],\n",
       "        [-0.79002859, -0.56009615],\n",
       "        [-0.71954521, -0.39975845],\n",
       "        [-0.72775896, -0.47750865],\n",
       "        [-0.73328515, -0.43908323],\n",
       "        [-0.73070838, -0.46272189],\n",
       "        [-0.72823932, -0.44061758],\n",
       "        [-0.69911664, -0.40736342],\n",
       "        [-0.69990967, -0.38305489],\n",
       "        [-0.73374057, -0.36538462],\n",
       "        [-0.73886786, -0.509528  ]],\n",
       "\n",
       "       [[ 0.        ,  0.        ],\n",
       "        [ 0.13926397,  0.12091503],\n",
       "        [ 0.64002642,  0.66378378],\n",
       "        [ 0.65590969,  0.62513312],\n",
       "        [ 0.66480818,  0.67017914],\n",
       "        [ 0.66788026,  0.70762712],\n",
       "        [ 0.69151361,  0.69045005],\n",
       "        [ 0.76813693,  0.74501574],\n",
       "        [ 0.79270249,  0.82803943],\n",
       "        [ 0.7630004 ,  0.73866091],\n",
       "        [ 0.43592882,  0.41796342]],\n",
       "\n",
       "       [[ 0.        ,  0.        ],\n",
       "        [ 0.64211391,  0.66696035],\n",
       "        [ 0.87506414,  0.98075278],\n",
       "        [ 0.88773118,  0.97436957],\n",
       "        [ 0.88782562,  0.97671518],\n",
       "        [ 0.89242708,  0.98022847],\n",
       "        [ 0.89901674,  0.98292469],\n",
       "        [ 0.92227166,  0.98543689],\n",
       "        [ 0.9379186 ,  0.98354978],\n",
       "        [ 0.9371672 ,  0.98879793],\n",
       "        [ 0.88736428,  0.92199116]]])"
      ]
     },
     "execution_count": 78,
     "metadata": {},
     "output_type": "execute_result"
    }
   ],
   "execution_count": 78
  },
  {
   "metadata": {
    "ExecuteTime": {
     "end_time": "2025-06-22T03:18:48.775784Z",
     "start_time": "2025-06-22T03:18:48.770921Z"
    }
   },
   "cell_type": "code",
   "source": [
    "def plot(data):\n",
    "    fig, axes = plt.subplots(1, 2, figsize=(10, 5))\n",
    "    titles = [\"without ace\", \"with ace\"]\n",
    "    have_aces = [0,1]\n",
    "    extent = [12, 22, 1, 11]\n",
    "\n",
    "    for title, have_ace, axis in zip(titles, have_aces, axes):\n",
    "        dat = data[extent[0]: extent[1], extent[2]: extent[3], have_ace].T\n",
    "        axis.imshow(dat, extent=extent, origin='lower')\n",
    "        axis.set_xlabel(\"Player sum\")\n",
    "        axis.set_ylabel(\"Dealer sum\")\n",
    "        axis.set_title(title)"
   ],
   "id": "61c9023d96b4549f",
   "outputs": [],
   "execution_count": 79
  },
  {
   "metadata": {
    "ExecuteTime": {
     "end_time": "2025-06-22T03:23:32.563363Z",
     "start_time": "2025-06-22T03:23:32.316966Z"
    }
   },
   "cell_type": "code",
   "source": [
    "plot(policy.argmax(-1))\n",
    "plot(v)"
   ],
   "id": "7b81ff768abf3dc0",
   "outputs": [
    {
     "data": {
      "text/plain": [
       "<Figure size 1000x500 with 2 Axes>"
      ],
      "image/png": "[encoded data removed]"
     },
     "metadata": {},
     "output_type": "display_data"
    },
    {
     "data": {
      "text/plain": [
       "<Figure size 1000x500 with 2 Axes>"
      ],
      "image/png": "[encoded data removed]"
     },
     "metadata": {},
     "output_type": "display_data"
    }
   ],
   "execution_count": 84
  },
  {
   "metadata": {},
   "cell_type": "markdown",
   "source": "Notice we can hit without fear of busting if our card sum is below 12. Our focus should be on states where the player sum is 12 or higher.",
   "id": "39951e41b911d48f"
  },
  {
   "metadata": {
    "ExecuteTime": {
     "end_time": "2025-06-21T16:55:48.495940Z",
     "start_time": "2025-06-21T16:55:48.491739Z"
    }
   },
   "cell_type": "code",
   "source": [
    "def monte_carlo_with_exploring_start(env, episode_num=500000):\n",
    "    policy = np.zeros((22, 11, 2, 2))\n",
    "    policy[:, :, :, 1] = 1 # only hit no matter what\n",
    "    print(np.all(np.sum(policy, axis=(0,1,2)) == 1))\n",
    "    print(np.sum(policy, axis=(0,1,2)))\n",
    "    q = np.zeros_like(policy)\n",
    "    c = np.zeros_like(policy)\n",
    "    for _ in tqdm(range(episode_num)):\n",
    "        # choose iniital state randomly.\n",
    "        state = (np.random.randint(12,22), np.random.randint(1,11), np.random.randint(2))\n",
    "        action = np.random.randint(2)\n",
    "\n",
    "        # Play episode\n",
    "        env.reset()\n",
    "\n",
    "        player_sum, has_ace = state[0], state[2]\n",
    "        if has_ace:\n",
    "            env.unwrapped.player = [1, player_sum - 1]\n",
    "        else:\n",
    "            if player_sum == 21:\n",
    "                env.unwrapped.player = [10, 9, 2]\n",
    "            else:\n",
    "                env.unwrapped.player = [10, player_sum - 1 - 10]\n",
    "\n",
    "        env.unwrapped.dealer[0] = state[1]\n",
    "        state_actions = []\n",
    "\n",
    "        while True:\n",
    "            state_actions.append((state, action))\n",
    "            observation, reward, terminated, truncated, _ = env.step(action)\n",
    "            if terminated or truncated:\n",
    "                break\n",
    "\n",
    "            state = observation2state(observation)\n",
    "            action = np.random.choice(env.action_space.n, p=policy[state])\n",
    "\n",
    "        g = reward\n",
    "        for state, action in state_actions:\n",
    "            c[state, action] += 1\n",
    "            q[state, action] += (g - q[state, action]) / c[state, action]\n",
    "\n",
    "            a = q[state].argmax()\n",
    "            policy[state] = 0\n",
    "            policy[state, a] = 1\n",
    "    return policy, q"
   ],
   "id": "77232c28f7bd92dc",
   "outputs": [],
   "execution_count": 52
  },
  {
   "metadata": {
    "ExecuteTime": {
     "end_time": "2025-06-22T03:25:26.236682Z",
     "start_time": "2025-06-22T03:24:59.072218Z"
    }
   },
   "cell_type": "code",
   "source": [
    "env.reset(seed=42)\n",
    "policy, q = monte_carlo_with_exploring_start(env)\n",
    "v = q.max(axis=-1)\n",
    "plot(policy.argmax(-1))\n",
    "plot(v)"
   ],
   "id": "c649916c0c94fba7",
   "outputs": [
    {
     "name": "stderr",
     "output_type": "stream",
     "text": [
      "100%|██████████| 500000/500000 [00:26<00:00, 18564.30it/s]\n"
     ]
    },
    {
     "data": {
      "text/plain": [
       "<Figure size 1000x500 with 2 Axes>"
      ],
      "image/png": "[encoded data removed]"
     },
     "metadata": {},
     "output_type": "display_data"
    },
    {
     "data": {
      "text/plain": [
       "<Figure size 1000x500 with 2 Axes>"
      ],
      "image/png": "[encoded data removed]"
     },
     "metadata": {},
     "output_type": "display_data"
    }
   ],
   "execution_count": 85
  },
  {
   "metadata": {
    "ExecuteTime": {
     "end_time": "2025-06-22T03:21:05.357315Z",
     "start_time": "2025-06-22T03:21:05.284337Z"
    }
   },
   "cell_type": "code",
   "source": "test_policy(1000, env, policy)",
   "id": "971d4fe0a5e25b7",
   "outputs": [
    {
     "name": "stderr",
     "output_type": "stream",
     "text": [
      "100%|██████████| 1000/1000 [00:00<00:00, 14589.09it/s]\n"
     ]
    },
    {
     "data": {
      "text/plain": [
       "(np.float64(-0.042), np.float64(0.9624115543778555))"
      ]
     },
     "execution_count": 82,
     "metadata": {},
     "output_type": "execute_result"
    }
   ],
   "execution_count": 82
  },
  {
   "metadata": {
    "ExecuteTime": {
     "end_time": "2025-06-22T07:58:19.386313Z",
     "start_time": "2025-06-22T07:58:19.381129Z"
    }
   },
   "cell_type": "code",
   "source": [
    "def monte_carlo_with_exploring_start(env, episode_num=500000):\n",
    "    policy = np.zeros((22, 11, 2, 2))\n",
    "    policy[:, :, :, 1] = 1.\n",
    "    q = np.zeros_like(policy)  # action values\n",
    "    c = np.zeros_like(policy)  # counts\n",
    "    for _ in tqdm(range(episode_num)):\n",
    "        # choose initial state randomly\n",
    "        state = (np.random.randint(12, 22), np.random.randint(1, 11), np.random.randint(2))\n",
    "        action = np.random.randint(2)\n",
    "        # play an episode\n",
    "        env.reset()\n",
    "        if state[2]:  # has ace\n",
    "            env.unwrapped.player = [1, state[0] - 11]\n",
    "        else:  # no ace\n",
    "            if state[0] == 21:\n",
    "                env.unwrapped.player = [10, 9, 2]\n",
    "            else:\n",
    "                env.unwrapped.player = [10, state[0] - 10]\n",
    "        env.unwrapped.dealer[0] = state[1]\n",
    "        state_actions = []\n",
    "        while True:\n",
    "            state_actions.append((state, action))\n",
    "            observation, reward, terminated, truncated, _ = env.step(action)\n",
    "            if terminated or truncated:\n",
    "                break  # end of episode\n",
    "            state = observation2state(observation)\n",
    "            action = np.random.choice(env.action_space.n, p=policy[state])\n",
    "\n",
    "        g = reward  # return\n",
    "        for state, action in state_actions:\n",
    "            c[state][action] += 1.\n",
    "            q[state][action] += (g - q[state][action]) / c[state][action]\n",
    "            a = q[state].argmax()\n",
    "            policy[state] = 0.\n",
    "            policy[state][a] = 1.\n",
    "    return policy, q"
   ],
   "id": "1a6dc836bbbf2b62",
   "outputs": [],
   "execution_count": 100
  },
  {
   "metadata": {
    "ExecuteTime": {
     "end_time": "2025-06-22T07:58:48.168841Z",
     "start_time": "2025-06-22T07:58:21.042130Z"
    }
   },
   "cell_type": "code",
   "source": [
    "env.reset(seed=42)\n",
    "policy, q = monte_carlo_with_exploring_start(env)\n",
    "v = q.max(axis=-1)\n",
    "plot(policy.argmax(-1))\n",
    "plot(v)"
   ],
   "id": "5056d407251e7fd3",
   "outputs": [
    {
     "name": "stderr",
     "output_type": "stream",
     "text": [
      "100%|██████████| 500000/500000 [00:26<00:00, 18594.77it/s]\n"
     ]
    },
    {
     "data": {
      "text/plain": [
       "<Figure size 1000x500 with 2 Axes>"
      ],
      "image/png": "[encoded data removed]"
     },
     "metadata": {},
     "output_type": "display_data"
    },
    {
     "data": {
      "text/plain": [
       "<Figure size 1000x500 with 2 Axes>"
      ],
      "image/png": "[encoded data removed]"
     },
     "metadata": {},
     "output_type": "display_data"
    }
   ],
   "execution_count": 101
  },
  {
   "metadata": {
    "ExecuteTime": {
     "end_time": "2025-06-22T08:44:39.551700Z",
     "start_time": "2025-06-22T08:44:39.545572Z"
    }
   },
   "cell_type": "code",
   "source": [
    "def monte_carlo_with_soft(env, episode_num=500000, epsilon=0.1):\n",
    "    policy = np.ones((22, 11, 2, 2)) * 0.5  # soft policy\n",
    "    q = np.zeros_like(policy)  # action values\n",
    "    c = np.zeros_like(policy)  # counts\n",
    "    for _ in tqdm(range(episode_num)):\n",
    "        # play an episode\n",
    "        state_actions = []\n",
    "        observation, _ = env.reset()\n",
    "        while True:\n",
    "            state = observation2state(observation)\n",
    "            action = np.random.choice(env.action_space.n, p=policy[state])\n",
    "            state_actions.append((state, action))\n",
    "            observation, reward, terminated, truncated, _ = env.step(action)\n",
    "            if terminated or truncated:\n",
    "                break  # end of episode\n",
    "\n",
    "        g = reward  # return\n",
    "        for state, action in state_actions:\n",
    "            c[state][action] += 1.\n",
    "            q[state][action] += (g - q[state][action]) / c[state][action]\n",
    "\n",
    "            # soft update\n",
    "            a = q[state].argmax()\n",
    "            policy[state] = epsilon / 2.\n",
    "            policy[state][a] += (1 - epsilon)\n",
    "    return policy, q"
   ],
   "id": "4070e44fbf0d6f5e",
   "outputs": [],
   "execution_count": 102
  },
  {
   "metadata": {
    "ExecuteTime": {
     "end_time": "2025-06-22T08:45:08.071166Z",
     "start_time": "2025-06-22T08:44:39.904922Z"
    }
   },
   "cell_type": "code",
   "source": [
    "policy, q = monte_carlo_with_soft(env)\n",
    "v = q.max(axis=-1)\n",
    "plot(policy.argmax(-1))\n",
    "plot(v)"
   ],
   "id": "ef7e1b5a8ab97b0c",
   "outputs": [
    {
     "name": "stderr",
     "output_type": "stream",
     "text": [
      "100%|██████████| 500000/500000 [00:27<00:00, 17902.59it/s]\n"
     ]
    },
    {
     "data": {
      "text/plain": [
       "<Figure size 1000x500 with 2 Axes>"
      ],
      "image/png": "[encoded data removed]"
     },
     "metadata": {},
     "output_type": "display_data"
    },
    {
     "data": {
      "text/plain": [
       "<Figure size 1000x500 with 2 Axes>"
      ],
      "image/png": "[encoded data removed]"
     },
     "metadata": {},
     "output_type": "display_data"
    }
   ],
   "execution_count": 103
  },
  {
   "metadata": {},
   "cell_type": "code",
   "outputs": [],
   "execution_count": null,
   "source": "",
   "id": "988c8e568ed150bf"
  }
 ],
 "metadata": {
  "kernelspec": {
   "display_name": "Python 3",
   "language": "python",
   "name": "python3"
  },
  "language_info": {
   "codemirror_mode": {
    "name": "ipython",
    "version": 2
   },
   "file_extension": ".py",
   "mimetype": "text/x-python",
   "name": "python",
   "nbconvert_exporter": "python",
   "pygments_lexer": "ipython2",
   "version": "2.7.6"
  }
 },
 "nbformat": 4,
 "nbformat_minor": 5
}
