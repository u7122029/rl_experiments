{
 "cells": [
  {
   "cell_type": "code",
   "id": "initial_id",
   "metadata": {
    "collapsed": true,
    "ExecuteTime": {
     "end_time": "2025-06-23T18:16:36.580835Z",
     "start_time": "2025-06-23T18:16:36.577804Z"
    }
   },
   "source": [
    "import numpy as np\n",
    "import gymnasium as gym\n",
    "from gymnasium.wrappers import TimeLimit\n",
    "import matplotlib.pyplot as plt\n",
    "from tqdm import tqdm"
   ],
   "outputs": [],
   "execution_count": 39
  },
  {
   "metadata": {
    "ExecuteTime": {
     "end_time": "2025-06-23T18:17:52.501827600Z",
     "start_time": "2025-06-23T18:16:37.231467Z"
    }
   },
   "cell_type": "code",
   "source": [
    "env = TimeLimit(gym.make('CliffWalking-v0'), max_episode_steps=30)\n",
    "train_seed = 42\n",
    "test_seed = 44"
   ],
   "id": "febaa082a68ad8bc",
   "outputs": [],
   "execution_count": 40
  },
  {
   "metadata": {
    "ExecuteTime": {
     "end_time": "2025-06-23T18:17:52.522390600Z",
     "start_time": "2025-06-23T18:16:37.881986Z"
    }
   },
   "cell_type": "code",
   "source": [
    "observation, _ = env.reset(seed=test_seed)\n",
    "observation"
   ],
   "id": "ab2760a5742d3ff9",
   "outputs": [
    {
     "data": {
      "text/plain": [
       "36"
      ]
     },
     "execution_count": 41,
     "metadata": {},
     "output_type": "execute_result"
    }
   ],
   "execution_count": 41
  },
  {
   "metadata": {
    "ExecuteTime": {
     "end_time": "2025-06-23T18:17:52.525393700Z",
     "start_time": "2025-06-23T18:16:38.740527Z"
    }
   },
   "cell_type": "code",
   "source": [
    "def play_policy(env, policy=None):\n",
    "    observation, _ = env.reset()\n",
    "    episode_reward, elapsed_steps = 0, 0\n",
    "\n",
    "    while True:\n",
    "        if policy is None:\n",
    "            action = env.action_space.sample()\n",
    "        else:\n",
    "            action = np.random.choice(env.action_space.n, p=policy[observation])\n",
    "\n",
    "        observation, reward, terminated, truncated, _ = env.step(action)\n",
    "        episode_reward += reward\n",
    "        elapsed_steps += 1\n",
    "        if terminated or truncated:\n",
    "            break\n",
    "    return episode_reward, elapsed_steps"
   ],
   "id": "fb0dc4555d50c40d",
   "outputs": [],
   "execution_count": 42
  },
  {
   "metadata": {
    "ExecuteTime": {
     "end_time": "2025-06-23T18:17:52.526440300Z",
     "start_time": "2025-06-23T18:16:39.198226Z"
    }
   },
   "cell_type": "code",
   "source": [
    "def test_policy(n, env, policy, test_seed):\n",
    "    env.reset(seed=test_seed)\n",
    "    rewards = [play_policy(env, policy)[0] for _ in range(n)]\n",
    "    return np.mean(rewards), np.std(rewards)"
   ],
   "id": "e4cc3584418c8029",
   "outputs": [],
   "execution_count": 43
  },
  {
   "metadata": {
    "ExecuteTime": {
     "end_time": "2025-06-23T18:17:52.529439200Z",
     "start_time": "2025-06-23T18:16:39.670274Z"
    }
   },
   "cell_type": "code",
   "source": "env.unwrapped.__dict__",
   "id": "9d23f032da387a50",
   "outputs": [
    {
     "data": {
      "text/plain": [
       "{'shape': (4, 12),\n",
       " 'start_state_index': np.int64(36),\n",
       " 'nS': np.int64(48),\n",
       " 'nA': 4,\n",
       " 'is_slippery': False,\n",
       " '_cliff': array([[False, False, False, False, False, False, False, False, False,\n",
       "         False, False, False],\n",
       "        [False, False, False, False, False, False, False, False, False,\n",
       "         False, False, False],\n",
       "        [False, False, False, False, False, False, False, False, False,\n",
       "         False, False, False],\n",
       "        [False,  True,  True,  True,  True,  True,  True,  True,  True,\n",
       "          True,  True, False]]),\n",
       " 'P': {0: {0: [(1.0, np.int64(0), -1, False)],\n",
       "   1: [(1.0, np.int64(1), -1, False)],\n",
       "   2: [(1.0, np.int64(12), -1, False)],\n",
       "   3: [(1.0, np.int64(0), -1, False)]},\n",
       "  1: {0: [(1.0, np.int64(1), -1, False)],\n",
       "   1: [(1.0, np.int64(2), -1, False)],\n",
       "   2: [(1.0, np.int64(13), -1, False)],\n",
       "   3: [(1.0, np.int64(0), -1, False)]},\n",
       "  2: {0: [(1.0, np.int64(2), -1, False)],\n",
       "   1: [(1.0, np.int64(3), -1, False)],\n",
       "   2: [(1.0, np.int64(14), -1, False)],\n",
       "   3: [(1.0, np.int64(1), -1, False)]},\n",
       "  3: {0: [(1.0, np.int64(3), -1, False)],\n",
       "   1: [(1.0, np.int64(4), -1, False)],\n",
       "   2: [(1.0, np.int64(15), -1, False)],\n",
       "   3: [(1.0, np.int64(2), -1, False)]},\n",
       "  4: {0: [(1.0, np.int64(4), -1, False)],\n",
       "   1: [(1.0, np.int64(5), -1, False)],\n",
       "   2: [(1.0, np.int64(16), -1, False)],\n",
       "   3: [(1.0, np.int64(3), -1, False)]},\n",
       "  5: {0: [(1.0, np.int64(5), -1, False)],\n",
       "   1: [(1.0, np.int64(6), -1, False)],\n",
       "   2: [(1.0, np.int64(17), -1, False)],\n",
       "   3: [(1.0, np.int64(4), -1, False)]},\n",
       "  6: {0: [(1.0, np.int64(6), -1, False)],\n",
       "   1: [(1.0, np.int64(7), -1, False)],\n",
       "   2: [(1.0, np.int64(18), -1, False)],\n",
       "   3: [(1.0, np.int64(5), -1, False)]},\n",
       "  7: {0: [(1.0, np.int64(7), -1, False)],\n",
       "   1: [(1.0, np.int64(8), -1, False)],\n",
       "   2: [(1.0, np.int64(19), -1, False)],\n",
       "   3: [(1.0, np.int64(6), -1, False)]},\n",
       "  8: {0: [(1.0, np.int64(8), -1, False)],\n",
       "   1: [(1.0, np.int64(9), -1, False)],\n",
       "   2: [(1.0, np.int64(20), -1, False)],\n",
       "   3: [(1.0, np.int64(7), -1, False)]},\n",
       "  9: {0: [(1.0, np.int64(9), -1, False)],\n",
       "   1: [(1.0, np.int64(10), -1, False)],\n",
       "   2: [(1.0, np.int64(21), -1, False)],\n",
       "   3: [(1.0, np.int64(8), -1, False)]},\n",
       "  10: {0: [(1.0, np.int64(10), -1, False)],\n",
       "   1: [(1.0, np.int64(11), -1, False)],\n",
       "   2: [(1.0, np.int64(22), -1, False)],\n",
       "   3: [(1.0, np.int64(9), -1, False)]},\n",
       "  11: {0: [(1.0, np.int64(11), -1, False)],\n",
       "   1: [(1.0, np.int64(11), -1, False)],\n",
       "   2: [(1.0, np.int64(23), -1, False)],\n",
       "   3: [(1.0, np.int64(10), -1, False)]},\n",
       "  12: {0: [(1.0, np.int64(0), -1, False)],\n",
       "   1: [(1.0, np.int64(13), -1, False)],\n",
       "   2: [(1.0, np.int64(24), -1, False)],\n",
       "   3: [(1.0, np.int64(12), -1, False)]},\n",
       "  13: {0: [(1.0, np.int64(1), -1, False)],\n",
       "   1: [(1.0, np.int64(14), -1, False)],\n",
       "   2: [(1.0, np.int64(25), -1, False)],\n",
       "   3: [(1.0, np.int64(12), -1, False)]},\n",
       "  14: {0: [(1.0, np.int64(2), -1, False)],\n",
       "   1: [(1.0, np.int64(15), -1, False)],\n",
       "   2: [(1.0, np.int64(26), -1, False)],\n",
       "   3: [(1.0, np.int64(13), -1, False)]},\n",
       "  15: {0: [(1.0, np.int64(3), -1, False)],\n",
       "   1: [(1.0, np.int64(16), -1, False)],\n",
       "   2: [(1.0, np.int64(27), -1, False)],\n",
       "   3: [(1.0, np.int64(14), -1, False)]},\n",
       "  16: {0: [(1.0, np.int64(4), -1, False)],\n",
       "   1: [(1.0, np.int64(17), -1, False)],\n",
       "   2: [(1.0, np.int64(28), -1, False)],\n",
       "   3: [(1.0, np.int64(15), -1, False)]},\n",
       "  17: {0: [(1.0, np.int64(5), -1, False)],\n",
       "   1: [(1.0, np.int64(18), -1, False)],\n",
       "   2: [(1.0, np.int64(29), -1, False)],\n",
       "   3: [(1.0, np.int64(16), -1, False)]},\n",
       "  18: {0: [(1.0, np.int64(6), -1, False)],\n",
       "   1: [(1.0, np.int64(19), -1, False)],\n",
       "   2: [(1.0, np.int64(30), -1, False)],\n",
       "   3: [(1.0, np.int64(17), -1, False)]},\n",
       "  19: {0: [(1.0, np.int64(7), -1, False)],\n",
       "   1: [(1.0, np.int64(20), -1, False)],\n",
       "   2: [(1.0, np.int64(31), -1, False)],\n",
       "   3: [(1.0, np.int64(18), -1, False)]},\n",
       "  20: {0: [(1.0, np.int64(8), -1, False)],\n",
       "   1: [(1.0, np.int64(21), -1, False)],\n",
       "   2: [(1.0, np.int64(32), -1, False)],\n",
       "   3: [(1.0, np.int64(19), -1, False)]},\n",
       "  21: {0: [(1.0, np.int64(9), -1, False)],\n",
       "   1: [(1.0, np.int64(22), -1, False)],\n",
       "   2: [(1.0, np.int64(33), -1, False)],\n",
       "   3: [(1.0, np.int64(20), -1, False)]},\n",
       "  22: {0: [(1.0, np.int64(10), -1, False)],\n",
       "   1: [(1.0, np.int64(23), -1, False)],\n",
       "   2: [(1.0, np.int64(34), -1, False)],\n",
       "   3: [(1.0, np.int64(21), -1, False)]},\n",
       "  23: {0: [(1.0, np.int64(11), -1, False)],\n",
       "   1: [(1.0, np.int64(23), -1, False)],\n",
       "   2: [(1.0, np.int64(35), -1, False)],\n",
       "   3: [(1.0, np.int64(22), -1, False)]},\n",
       "  24: {0: [(1.0, np.int64(12), -1, False)],\n",
       "   1: [(1.0, np.int64(25), -1, False)],\n",
       "   2: [(1.0, np.int64(36), -1, False)],\n",
       "   3: [(1.0, np.int64(24), -1, False)]},\n",
       "  25: {0: [(1.0, np.int64(13), -1, False)],\n",
       "   1: [(1.0, np.int64(26), -1, False)],\n",
       "   2: [(1.0, np.int64(36), -100, False)],\n",
       "   3: [(1.0, np.int64(24), -1, False)]},\n",
       "  26: {0: [(1.0, np.int64(14), -1, False)],\n",
       "   1: [(1.0, np.int64(27), -1, False)],\n",
       "   2: [(1.0, np.int64(36), -100, False)],\n",
       "   3: [(1.0, np.int64(25), -1, False)]},\n",
       "  27: {0: [(1.0, np.int64(15), -1, False)],\n",
       "   1: [(1.0, np.int64(28), -1, False)],\n",
       "   2: [(1.0, np.int64(36), -100, False)],\n",
       "   3: [(1.0, np.int64(26), -1, False)]},\n",
       "  28: {0: [(1.0, np.int64(16), -1, False)],\n",
       "   1: [(1.0, np.int64(29), -1, False)],\n",
       "   2: [(1.0, np.int64(36), -100, False)],\n",
       "   3: [(1.0, np.int64(27), -1, False)]},\n",
       "  29: {0: [(1.0, np.int64(17), -1, False)],\n",
       "   1: [(1.0, np.int64(30), -1, False)],\n",
       "   2: [(1.0, np.int64(36), -100, False)],\n",
       "   3: [(1.0, np.int64(28), -1, False)]},\n",
       "  30: {0: [(1.0, np.int64(18), -1, False)],\n",
       "   1: [(1.0, np.int64(31), -1, False)],\n",
       "   2: [(1.0, np.int64(36), -100, False)],\n",
       "   3: [(1.0, np.int64(29), -1, False)]},\n",
       "  31: {0: [(1.0, np.int64(19), -1, False)],\n",
       "   1: [(1.0, np.int64(32), -1, False)],\n",
       "   2: [(1.0, np.int64(36), -100, False)],\n",
       "   3: [(1.0, np.int64(30), -1, False)]},\n",
       "  32: {0: [(1.0, np.int64(20), -1, False)],\n",
       "   1: [(1.0, np.int64(33), -1, False)],\n",
       "   2: [(1.0, np.int64(36), -100, False)],\n",
       "   3: [(1.0, np.int64(31), -1, False)]},\n",
       "  33: {0: [(1.0, np.int64(21), -1, False)],\n",
       "   1: [(1.0, np.int64(34), -1, False)],\n",
       "   2: [(1.0, np.int64(36), -100, False)],\n",
       "   3: [(1.0, np.int64(32), -1, False)]},\n",
       "  34: {0: [(1.0, np.int64(22), -1, False)],\n",
       "   1: [(1.0, np.int64(35), -1, False)],\n",
       "   2: [(1.0, np.int64(36), -100, False)],\n",
       "   3: [(1.0, np.int64(33), -1, False)]},\n",
       "  35: {0: [(1.0, np.int64(23), -1, False)],\n",
       "   1: [(1.0, np.int64(35), -1, False)],\n",
       "   2: [(1.0, np.int64(47), -1, True)],\n",
       "   3: [(1.0, np.int64(34), -1, False)]},\n",
       "  36: {0: [(1.0, np.int64(24), -1, False)],\n",
       "   1: [(1.0, np.int64(36), -100, False)],\n",
       "   2: [(1.0, np.int64(36), -1, False)],\n",
       "   3: [(1.0, np.int64(36), -1, False)]},\n",
       "  37: {0: [(1.0, np.int64(25), -1, False)],\n",
       "   1: [(1.0, np.int64(36), -100, False)],\n",
       "   2: [(1.0, np.int64(36), -100, False)],\n",
       "   3: [(1.0, np.int64(36), -1, False)]},\n",
       "  38: {0: [(1.0, np.int64(26), -1, False)],\n",
       "   1: [(1.0, np.int64(36), -100, False)],\n",
       "   2: [(1.0, np.int64(36), -100, False)],\n",
       "   3: [(1.0, np.int64(36), -100, False)]},\n",
       "  39: {0: [(1.0, np.int64(27), -1, False)],\n",
       "   1: [(1.0, np.int64(36), -100, False)],\n",
       "   2: [(1.0, np.int64(36), -100, False)],\n",
       "   3: [(1.0, np.int64(36), -100, False)]},\n",
       "  40: {0: [(1.0, np.int64(28), -1, False)],\n",
       "   1: [(1.0, np.int64(36), -100, False)],\n",
       "   2: [(1.0, np.int64(36), -100, False)],\n",
       "   3: [(1.0, np.int64(36), -100, False)]},\n",
       "  41: {0: [(1.0, np.int64(29), -1, False)],\n",
       "   1: [(1.0, np.int64(36), -100, False)],\n",
       "   2: [(1.0, np.int64(36), -100, False)],\n",
       "   3: [(1.0, np.int64(36), -100, False)]},\n",
       "  42: {0: [(1.0, np.int64(30), -1, False)],\n",
       "   1: [(1.0, np.int64(36), -100, False)],\n",
       "   2: [(1.0, np.int64(36), -100, False)],\n",
       "   3: [(1.0, np.int64(36), -100, False)]},\n",
       "  43: {0: [(1.0, np.int64(31), -1, False)],\n",
       "   1: [(1.0, np.int64(36), -100, False)],\n",
       "   2: [(1.0, np.int64(36), -100, False)],\n",
       "   3: [(1.0, np.int64(36), -100, False)]},\n",
       "  44: {0: [(1.0, np.int64(32), -1, False)],\n",
       "   1: [(1.0, np.int64(36), -100, False)],\n",
       "   2: [(1.0, np.int64(36), -100, False)],\n",
       "   3: [(1.0, np.int64(36), -100, False)]},\n",
       "  45: {0: [(1.0, np.int64(33), -1, False)],\n",
       "   1: [(1.0, np.int64(36), -100, False)],\n",
       "   2: [(1.0, np.int64(36), -100, False)],\n",
       "   3: [(1.0, np.int64(36), -100, False)]},\n",
       "  46: {0: [(1.0, np.int64(34), -1, False)],\n",
       "   1: [(1.0, np.int64(47), -1, True)],\n",
       "   2: [(1.0, np.int64(36), -100, False)],\n",
       "   3: [(1.0, np.int64(36), -100, False)]},\n",
       "  47: {0: [(1.0, np.int64(35), -1, False)],\n",
       "   1: [(1.0, np.int64(47), -1, True)],\n",
       "   2: [(1.0, np.int64(47), -1, True)],\n",
       "   3: [(1.0, np.int64(36), -100, False)]}},\n",
       " 'initial_state_distrib': array([0., 0., 0., 0., 0., 0., 0., 0., 0., 0., 0., 0., 0., 0., 0., 0., 0.,\n",
       "        0., 0., 0., 0., 0., 0., 0., 0., 0., 0., 0., 0., 0., 0., 0., 0., 0.,\n",
       "        0., 0., 1., 0., 0., 0., 0., 0., 0., 0., 0., 0., 0., 0.]),\n",
       " 'observation_space': Discrete(48),\n",
       " 'action_space': Discrete(4),\n",
       " 'render_mode': None,\n",
       " 'cell_size': (60, 60),\n",
       " 'window_size': (720, 240),\n",
       " 'window_surface': None,\n",
       " 'clock': None,\n",
       " 'elf_images': None,\n",
       " 'start_img': None,\n",
       " 'goal_img': None,\n",
       " 'cliff_img': None,\n",
       " 'mountain_bg_img': None,\n",
       " 'near_cliff_img': None,\n",
       " 'tree_img': None,\n",
       " 'spec': EnvSpec(id='CliffWalking-v0', entry_point='gymnasium.envs.toy_text.cliffwalking:CliffWalkingEnv', reward_threshold=None, nondeterministic=False, max_episode_steps=None, order_enforce=False, disable_env_checker=True, kwargs={}, namespace=None, name='CliffWalking', version=0, additional_wrappers=(), vector_entry_point=None),\n",
       " '_np_random': Generator(PCG64) at 0x1D7DB352420,\n",
       " '_np_random_seed': 44,\n",
       " 's': np.int64(36),\n",
       " 'lastaction': None}"
      ]
     },
     "execution_count": 44,
     "metadata": {},
     "output_type": "execute_result"
    }
   ],
   "execution_count": 44
  },
  {
   "metadata": {
    "ExecuteTime": {
     "end_time": "2025-06-23T18:17:52.532946700Z",
     "start_time": "2025-06-23T18:17:28.470539Z"
    }
   },
   "cell_type": "code",
   "source": [
    "def softmax(x):\n",
    "    \"\"\"\n",
    "    Computes the softmax of a NumPy array.\n",
    "\n",
    "    Args:\n",
    "        x (np.ndarray): The input array (logits).\n",
    "\n",
    "    Returns:\n",
    "        np.ndarray: The array with softmax probabilities.\n",
    "    \"\"\"\n",
    "    e_x = np.exp(x - np.max(x, axis=-1, keepdims=True)) # Subtract max for numerical stability\n",
    "    return e_x / np.sum(e_x, axis=-1, keepdims=True)\n",
    "\n",
    "def mc_exploring_start(env, train_seed, no_episodes=500000, gamma=1):\n",
    "    env.reset(seed=train_seed)\n",
    "\n",
    "    no_states = env.env.env.observation_space.n\n",
    "    no_actions = env.env.env.action_space.n\n",
    "\n",
    "    policy = np.ones((no_states, no_actions)) / no_actions\n",
    "    #policy[:, 0] = 1 # Only move up.\n",
    "    q = np.zeros(policy.shape)\n",
    "    c = np.zeros(policy.shape)\n",
    "\n",
    "    for _ in tqdm(range(no_episodes)):\n",
    "        # Choose initial state randomly. Ensure it is not on an invalid position\n",
    "        state = np.random.randint(37)\n",
    "        action = np.random.randint(4)\n",
    "\n",
    "        env.reset()\n",
    "        env.unwrapped.s = state\n",
    "\n",
    "        state_actions = []\n",
    "        rewards = []\n",
    "        while True:\n",
    "            state_actions.append((state, action))\n",
    "            state, reward, terminated, truncated, _ = env.step(action)\n",
    "            rewards.append(reward)\n",
    "            if terminated or truncated:\n",
    "                break\n",
    "            action = np.random.choice(no_actions, p=policy[state])\n",
    "\n",
    "        g = 0\n",
    "        for (state, action), reward in zip(reversed(state_actions), reversed(rewards)):\n",
    "            g = gamma * g + reward\n",
    "            c[state, action] += 1\n",
    "            q[state, action] += (g - q[state, action]) / c[state, action]\n",
    "\n",
    "            a = q[state].argmax()\n",
    "            #policy[state] = softmax(q[state])\n",
    "            policy[state] = 0\n",
    "            policy[state, a] = 1\n",
    "    return policy, q"
   ],
   "id": "d3022fdd101551bb",
   "outputs": [],
   "execution_count": 47
  },
  {
   "metadata": {
    "ExecuteTime": {
     "end_time": "2025-06-23T18:23:13.123762Z",
     "start_time": "2025-06-23T18:17:54.898561Z"
    }
   },
   "cell_type": "code",
   "source": "policy, q = mc_exploring_start(env, train_seed)",
   "id": "e252c77da537a16c",
   "outputs": [
    {
     "name": "stderr",
     "output_type": "stream",
     "text": [
      "100%|██████████| 500000/500000 [05:18<00:00, 1571.23it/s]\n"
     ]
    }
   ],
   "execution_count": 49
  },
  {
   "metadata": {
    "ExecuteTime": {
     "end_time": "2025-06-23T18:23:40.703069Z",
     "start_time": "2025-06-23T18:23:40.700406Z"
    }
   },
   "cell_type": "code",
   "source": "policy.argmax(axis=1).reshape(4, -1)",
   "id": "e34478188adb1d1c",
   "outputs": [
    {
     "data": {
      "text/plain": [
       "array([[1, 1, 1, 1, 2, 3, 2, 2, 2, 1, 2, 2],\n",
       "       [1, 2, 1, 1, 2, 1, 1, 1, 1, 0, 2, 3],\n",
       "       [0, 1, 1, 1, 1, 1, 1, 1, 0, 1, 1, 2],\n",
       "       [0, 0, 0, 0, 0, 0, 0, 0, 0, 0, 0, 0]])"
      ]
     },
     "execution_count": 52,
     "metadata": {},
     "output_type": "execute_result"
    }
   ],
   "execution_count": 52
  },
  {
   "metadata": {
    "ExecuteTime": {
     "end_time": "2025-06-23T18:25:30.407371Z",
     "start_time": "2025-06-23T18:25:30.357863Z"
    }
   },
   "cell_type": "code",
   "source": "test_policy(200, env, policy, test_seed)",
   "id": "f64cee8535ba0313",
   "outputs": [
    {
     "data": {
      "text/plain": [
       "(np.float64(-19.0), np.float64(0.0))"
      ]
     },
     "execution_count": 54,
     "metadata": {},
     "output_type": "execute_result"
    }
   ],
   "execution_count": 54
  },
  {
   "metadata": {},
   "cell_type": "code",
   "outputs": [],
   "execution_count": null,
   "source": "",
   "id": "8ce1d16a6e134375"
  }
 ],
 "metadata": {
  "kernelspec": {
   "display_name": "Python 3",
   "language": "python",
   "name": "python3"
  },
  "language_info": {
   "codemirror_mode": {
    "name": "ipython",
    "version": 2
   },
   "file_extension": ".py",
   "mimetype": "text/x-python",
   "name": "python",
   "nbconvert_exporter": "python",
   "pygments_lexer": "ipython2",
   "version": "2.7.6"
  }
 },
 "nbformat": 4,
 "nbformat_minor": 5
}
