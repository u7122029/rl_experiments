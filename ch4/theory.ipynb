{
 "cells": [
  {
   "metadata": {},
   "cell_type": "markdown",
   "source": [
    "# Monte Carlo Learning\n",
    "The previous chapters did not cover real ML methods. This was mainly due to the algorithms having full knowledge of the dynamics of the system. ML algorithms instead learn from interactions.\n",
    "\n",
    "Model-free learning can be further classified as:\n",
    "- Monte Carlo (MC) learning, and\n",
    "- Temporal Difference (TD) learning."
   ],
   "id": "84078b28c624488"
  },
  {
   "metadata": {},
   "cell_type": "markdown",
   "source": [
    "At end of episode, MC learning estimates values of policy using samples collected during the episodes.\n",
    "\n",
    "Consequently, ML learning can only be used in episodic tasks, since sequential tasks never end."
   ],
   "id": "37dc733fff23a51a"
  },
  {
   "metadata": {},
   "cell_type": "code",
   "outputs": [],
   "execution_count": null,
   "source": "",
   "id": "e762dac7f84fe279"
  }
 ],
 "metadata": {
  "kernelspec": {
   "display_name": "Python 3",
   "language": "python",
   "name": "python3"
  },
  "language_info": {
   "codemirror_mode": {
    "name": "ipython",
    "version": 2
   },
   "file_extension": ".py",
   "mimetype": "text/x-python",
   "name": "python",
   "nbconvert_exporter": "python",
   "pygments_lexer": "ipython2",
   "version": "2.7.6"
  }
 },
 "nbformat": 4,
 "nbformat_minor": 5
}
