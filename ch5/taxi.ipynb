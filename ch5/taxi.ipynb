{
 "cells": [
  {
   "cell_type": "code",
   "id": "initial_id",
   "metadata": {
    "collapsed": true,
    "ExecuteTime": {
     "end_time": "2025-06-28T11:07:20.793579Z",
     "start_time": "2025-06-28T11:07:20.787365Z"
    }
   },
   "source": [
    "import numpy as np\n",
    "import gymnasium as gym\n",
    "from tqdm import tqdm\n",
    "import matplotlib.pyplot as plt"
   ],
   "outputs": [],
   "execution_count": 13
  },
  {
   "metadata": {
    "ExecuteTime": {
     "end_time": "2025-06-28T11:07:21.071687Z",
     "start_time": "2025-06-28T11:07:21.067995Z"
    }
   },
   "cell_type": "code",
   "source": "env = gym.make('Taxi-v3')",
   "id": "51cf8480201cb5a9",
   "outputs": [],
   "execution_count": 14
  },
  {
   "metadata": {
    "ExecuteTime": {
     "end_time": "2025-06-28T11:07:21.326118Z",
     "start_time": "2025-06-28T11:07:21.323090Z"
    }
   },
   "cell_type": "code",
   "source": [
    "def play_policy(env, policy):\n",
    "    state_action_rewards = []\n",
    "    state, _ = env.reset()\n",
    "    done = False\n",
    "    while not done:\n",
    "        action = np.random.choice(env.action_space.n, p=policy[state])\n",
    "        new_state, reward, terminated, truncated, _ = env.step(action)\n",
    "        state_action_rewards.append((state, action, reward))\n",
    "        state = new_state\n",
    "        done = terminated or truncated\n",
    "\n",
    "    return state_action_rewards"
   ],
   "id": "e3a88d99894aa289",
   "outputs": [],
   "execution_count": 15
  },
  {
   "metadata": {
    "ExecuteTime": {
     "end_time": "2025-06-28T12:27:32.836495Z",
     "start_time": "2025-06-28T12:27:32.832832Z"
    }
   },
   "cell_type": "code",
   "source": [
    "from collections import deque\n",
    "class SARSAAgent:\n",
    "    def __init__(self, env):\n",
    "        self.gamma = 0.9\n",
    "        self.learning_rate = 0.2\n",
    "        self.epsilon = 0.01\n",
    "        self.state_n = env.observation_space.n\n",
    "        self.action_n = env.action_space.n\n",
    "        self.q = np.zeros((self.state_n, self.action_n))\n",
    "\n",
    "    def reset(self, mode=None):\n",
    "        self.mode = mode\n",
    "        if self.mode == \"train\":\n",
    "            self.trajectory = deque(maxlen=8)\n",
    "\n",
    "    def step(self, observation, reward, terminated):\n",
    "        \"\"\"\n",
    "        Choose an action according to the current policy.\n",
    "        Call this during an episode.\n",
    "        :param observation:\n",
    "        :param reward:\n",
    "        :param terminated:\n",
    "        :return:\n",
    "        \"\"\"\n",
    "        if self.mode == \"train\" and np.random.uniform() < self.epsilon:\n",
    "            action = np.random.randint(self.action_n)\n",
    "        else:\n",
    "            action = self.q[observation].argmax()\n",
    "\n",
    "        if self.mode == \"train\":\n",
    "            self.trajectory.extend([observation, reward, terminated, action])\n",
    "            if len(self.trajectory) >= 8:\n",
    "                self.learn()\n",
    "        return action\n",
    "\n",
    "    def close(self):\n",
    "        pass\n",
    "\n",
    "    def learn(self):\n",
    "        state, _, _, action, next_state, reward, terminated, next_action = list(self.trajectory)\n",
    "        target = reward + self.gamma * self.q[next_state, next_action] * (1 - terminated)\n",
    "        td_error = target - self.q[state, action]\n",
    "        self.q[state, action] += self.learning_rate * td_error"
   ],
   "id": "c98e80b7766262ed",
   "outputs": [],
   "execution_count": 35
  },
  {
   "metadata": {
    "ExecuteTime": {
     "end_time": "2025-06-28T12:29:25.003666Z",
     "start_time": "2025-06-28T12:29:19.992723Z"
    }
   },
   "cell_type": "code",
   "source": [
    "def play_episode(env, agent, seed=None, mode=None):\n",
    "    observation, _ = env.reset(seed=seed)\n",
    "    reward, terminated, truncated = 0., False, False\n",
    "    agent.reset(mode=mode)\n",
    "    episode_reward, elapsed_steps = 0., 0\n",
    "\n",
    "    done = False\n",
    "    while not done:\n",
    "        action = agent.step(observation, reward, terminated)\n",
    "        observation, reward, terminated, truncated, _ = env.step(action)\n",
    "        episode_reward += reward\n",
    "        elapsed_steps += 1\n",
    "        done = terminated or truncated\n",
    "\n",
    "    agent.close()\n",
    "    return episode_reward, elapsed_steps\n",
    "\n",
    "agent = SARSAAgent(env)\n",
    "\n",
    "episode_rewards = []\n",
    "progress = tqdm(range(500000))\n",
    "for episode in progress:\n",
    "    episode_reward, elapsed_steps = play_episode(env, agent, seed=episode, mode='train')\n",
    "    episode_rewards.append(episode_reward)\n",
    "\n",
    "    mean_reward = np.mean(episode_rewards[-200:])\n",
    "    progress.set_postfix({'mean_reward': mean_reward})\n",
    "    if mean_reward > env.spec.reward_threshold - 0.5:\n",
    "        print(\"breaking\")\n",
    "        break"
   ],
   "id": "b192aa1296e1fe9c",
   "outputs": [
    {
     "name": "stderr",
     "output_type": "stream",
     "text": [
      "  1%|          | 2863/500000 [00:02<05:33, 1489.74it/s, mean_reward=4.84]  IOPub message rate exceeded.\n",
      "The Jupyter server will temporarily stop sending output\n",
      "to the client in order to avoid crashing it.\n",
      "To change this limit, set the config variable\n",
      "`--ServerApp.iopub_msg_rate_limit`.\n",
      "\n",
      "Current values:\n",
      "ServerApp.iopub_msg_rate_limit=1000.0 (msgs/sec)\n",
      "ServerApp.rate_limit_window=3.0 (secs)\n",
      "\n",
      "  1%|          | 5853/500000 [00:05<07:02, 1169.29it/s, mean_reward=7.52]"
     ]
    },
    {
     "name": "stdout",
     "output_type": "stream",
     "text": [
      "breaking\n"
     ]
    },
    {
     "name": "stderr",
     "output_type": "stream",
     "text": [
      "\n"
     ]
    }
   ],
   "execution_count": 38
  },
  {
   "metadata": {
    "ExecuteTime": {
     "end_time": "2025-06-28T11:12:58.350205Z",
     "start_time": "2025-06-28T11:12:58.347613Z"
    }
   },
   "cell_type": "code",
   "source": "agent.q.shape",
   "id": "5b8ab8488558e1fe",
   "outputs": [
    {
     "data": {
      "text/plain": [
       "(500, 6)"
      ]
     },
     "execution_count": 25,
     "metadata": {},
     "output_type": "execute_result"
    }
   ],
   "execution_count": 25
  },
  {
   "metadata": {
    "ExecuteTime": {
     "end_time": "2025-06-28T11:13:35.821136Z",
     "start_time": "2025-06-28T11:13:35.817439Z"
    }
   },
   "cell_type": "code",
   "source": "env.spec.reward_threshold",
   "id": "43ee0647e3e956e7",
   "outputs": [
    {
     "data": {
      "text/plain": [
       "8"
      ]
     },
     "execution_count": 26,
     "metadata": {},
     "output_type": "execute_result"
    }
   ],
   "execution_count": 26
  },
  {
   "metadata": {
    "ExecuteTime": {
     "end_time": "2025-06-28T12:29:46.460325Z",
     "start_time": "2025-06-28T12:29:46.395911Z"
    }
   },
   "cell_type": "code",
   "source": "plt.scatter(range(len(episode_rewards)), episode_rewards, marker='.')",
   "id": "aa9882fbf373573a",
   "outputs": [
    {
     "data": {
      "text/plain": [
       "<matplotlib.collections.PathCollection at 0x2753438ccd0>"
      ]
     },
     "execution_count": 40,
     "metadata": {},
     "output_type": "execute_result"
    },
    {
     "data": {
      "text/plain": [
       "<Figure size 640x480 with 1 Axes>"
      ],
      "image/png": "[encoded data removed]"
     },
     "metadata": {},
     "output_type": "display_data"
    }
   ],
   "execution_count": 40
  },
  {
   "metadata": {},
   "cell_type": "code",
   "outputs": [],
   "execution_count": null,
   "source": "",
   "id": "e94a7cfb2b7372d9"
  }
 ],
 "metadata": {
  "kernelspec": {
   "display_name": "Python 3",
   "language": "python",
   "name": "python3"
  },
  "language_info": {
   "codemirror_mode": {
    "name": "ipython",
    "version": 2
   },
   "file_extension": ".py",
   "mimetype": "text/x-python",
   "name": "python",
   "nbconvert_exporter": "python",
   "pygments_lexer": "ipython2",
   "version": "2.7.6"
  }
 },
 "nbformat": 4,
 "nbformat_minor": 5
}
