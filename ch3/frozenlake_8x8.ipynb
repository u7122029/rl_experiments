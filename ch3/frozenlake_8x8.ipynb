{
 "cells": [
  {
   "cell_type": "code",
   "id": "initial_id",
   "metadata": {
    "collapsed": true,
    "ExecuteTime": {
     "end_time": "2025-06-15T07:48:10.502255Z",
     "start_time": "2025-06-15T07:48:10.436882Z"
    }
   },
   "source": [
    "import numpy as np\n",
    "import gymnasium as gym"
   ],
   "outputs": [],
   "execution_count": 1
  },
  {
   "metadata": {
    "ExecuteTime": {
     "end_time": "2025-06-15T07:55:59.043840Z",
     "start_time": "2025-06-15T07:55:59.040799Z"
    }
   },
   "cell_type": "code",
   "source": [
    "def construct_dynamics(env):\n",
    "    P = env.env.env.env.P\n",
    "    P_tensor = np.zeros((env.observation_space.n, 2, env.observation_space.n, env.action_space.n))\n",
    "    rewards = set()\n",
    "    terminals = np.zeros(env.observation_space.n, dtype=np.bool)\n",
    "    for state, actions in P.items():\n",
    "        for action, outcomes in actions.items():\n",
    "            for prob, next_state, reward, terminated in outcomes:\n",
    "                P_tensor[next_state, int(reward), state, action] += prob\n",
    "                terminals[next_state] = terminated\n",
    "                rewards.add(reward)\n",
    "\n",
    "    rewards = np.array(sorted(list(rewards)))\n",
    "    return P_tensor, rewards, terminals"
   ],
   "id": "e981e2969c89c438",
   "outputs": [],
   "execution_count": 12
  },
  {
   "metadata": {
    "ExecuteTime": {
     "end_time": "2025-06-15T07:55:59.310735Z",
     "start_time": "2025-06-15T07:55:59.307697Z"
    }
   },
   "cell_type": "code",
   "source": [
    "env = gym.make('FrozenLake8x8-v1')\n",
    "P_tensor, rewards, terminals = construct_dynamics(env)"
   ],
   "id": "45e1d52cad1fcb94",
   "outputs": [],
   "execution_count": 13
  },
  {
   "metadata": {
    "ExecuteTime": {
     "end_time": "2025-06-15T07:55:59.611472Z",
     "start_time": "2025-06-15T07:55:59.608586Z"
    }
   },
   "cell_type": "code",
   "source": [
    "# Check to make sure that each tensor has been correctly constructed.\n",
    "np.all(np.sum(P_tensor, axis=(0,1)) == 1),rewards,terminals"
   ],
   "id": "50d42a86ada88e40",
   "outputs": [
    {
     "data": {
      "text/plain": [
       "(np.True_,\n",
       " array([0., 1.]),\n",
       " array([False, False, False, False, False, False, False, False, False,\n",
       "        False, False, False, False, False, False, False, False, False,\n",
       "        False,  True, False, False, False, False, False, False, False,\n",
       "        False, False,  True, False, False, False, False, False,  True,\n",
       "        False, False, False, False, False,  True,  True, False, False,\n",
       "        False,  True, False, False,  True, False, False,  True, False,\n",
       "         True, False, False, False, False,  True, False, False, False,\n",
       "         True]))"
      ]
     },
     "execution_count": 14,
     "metadata": {},
     "output_type": "execute_result"
    }
   ],
   "execution_count": 14
  },
  {
   "metadata": {
    "ExecuteTime": {
     "end_time": "2025-06-15T08:21:18.234764Z",
     "start_time": "2025-06-15T08:21:18.231940Z"
    }
   },
   "cell_type": "code",
   "source": [
    "def v2q(P_tensor, rewards, terminals, v, gamma=1):\n",
    "    r_sa = np.sum(P_tensor * rewards[np.newaxis, :, np.newaxis, np.newaxis], axis=(0,1))\n",
    "    q = r_sa + gamma * np.sum(np.sum(P_tensor, axis=1) *\n",
    "                              v[:, np.newaxis, np.newaxis] *\n",
    "                              (1 - terminals[:, np.newaxis, np.newaxis]), axis=0)\n",
    "    return q"
   ],
   "id": "5df0f83cf3d373e2",
   "outputs": [],
   "execution_count": 17
  },
  {
   "metadata": {
    "ExecuteTime": {
     "end_time": "2025-06-15T08:21:43.486736Z",
     "start_time": "2025-06-15T08:21:43.484189Z"
    }
   },
   "cell_type": "code",
   "source": [
    "def iterate_value(P_tensor, rewards, terminals, gamma=1, tolerance=1e-20):\n",
    "    n_states = P_tensor.shape[0]\n",
    "    n_actions = P_tensor.shape[3]\n",
    "    v = np.zeros(n_states)\n",
    "    while True:\n",
    "        v_next = np.max(v2q(P_tensor, rewards, terminals, v, gamma), axis=1)\n",
    "        delta = np.max(np.abs(v_next - v))\n",
    "        v = v_next\n",
    "        if delta < tolerance:\n",
    "            break\n",
    "\n",
    "    # Calculate optimal policy\n",
    "    policy = np.zeros((n_states, n_actions))\n",
    "    q = v2q(P_tensor, rewards, terminals, v, gamma)\n",
    "    actions = np.argmax(q, axis=1)\n",
    "    policy[np.arange(n_states), actions] = 1.0\n",
    "    return policy, v"
   ],
   "id": "348a29694f5effed",
   "outputs": [],
   "execution_count": 20
  },
  {
   "metadata": {
    "ExecuteTime": {
     "end_time": "2025-06-15T08:21:44.018197Z",
     "start_time": "2025-06-15T08:21:43.888047Z"
    }
   },
   "cell_type": "code",
   "source": "policy, v = iterate_value(P_tensor, rewards, terminals)",
   "id": "83e111783ed1e6de",
   "outputs": [],
   "execution_count": 21
  },
  {
   "metadata": {
    "ExecuteTime": {
     "end_time": "2025-06-15T08:22:13.229938Z",
     "start_time": "2025-06-15T08:22:13.227057Z"
    }
   },
   "cell_type": "code",
   "source": "np.argmax(policy, axis=1).reshape(8,8)",
   "id": "fd63a5598a9e1d7f",
   "outputs": [
    {
     "data": {
      "text/plain": [
       "array([[1, 1, 2, 2, 2, 2, 1, 2],\n",
       "       [3, 3, 3, 3, 3, 3, 3, 1],\n",
       "       [0, 0, 0, 0, 2, 3, 3, 2],\n",
       "       [0, 0, 0, 1, 0, 0, 2, 2],\n",
       "       [0, 3, 0, 0, 2, 1, 3, 2],\n",
       "       [0, 0, 0, 1, 3, 0, 0, 2],\n",
       "       [0, 0, 1, 0, 0, 0, 0, 2],\n",
       "       [0, 1, 0, 0, 1, 2, 1, 0]])"
      ]
     },
     "execution_count": 23,
     "metadata": {},
     "output_type": "execute_result"
    }
   ],
   "execution_count": 23
  },
  {
   "metadata": {
    "ExecuteTime": {
     "end_time": "2025-06-15T08:22:24.848956Z",
     "start_time": "2025-06-15T08:22:24.845689Z"
    }
   },
   "cell_type": "code",
   "source": "v.reshape(8,8)",
   "id": "882bd1ea03120a78",
   "outputs": [
    {
     "data": {
      "text/plain": [
       "array([[1.        , 1.        , 1.        , 1.        , 1.        ,\n",
       "        1.        , 1.        , 1.        ],\n",
       "       [1.        , 1.        , 1.        , 1.        , 1.        ,\n",
       "        1.        , 1.        , 1.        ],\n",
       "       [1.        , 0.97820163, 0.92643052, 0.        , 0.85661768,\n",
       "        0.94623163, 0.98207721, 1.        ],\n",
       "       [1.        , 0.9346049 , 0.80108992, 0.47490377, 0.6236214 ,\n",
       "        0.        , 0.94467761, 1.        ],\n",
       "       [1.        , 0.82561308, 0.54223433, 0.        , 0.53934275,\n",
       "        0.61118923, 0.85195561, 1.        ],\n",
       "       [1.        , 0.        , 0.        , 0.16804079, 0.38321763,\n",
       "        0.44226934, 0.        , 1.        ],\n",
       "       [1.        , 0.        , 0.19467347, 0.12090475, 0.        ,\n",
       "        0.33240114, 0.        , 1.        ],\n",
       "       [1.        , 0.73155782, 0.46311564, 0.        , 0.27746705,\n",
       "        0.5549341 , 0.77746705, 0.        ]])"
      ]
     },
     "execution_count": 24,
     "metadata": {},
     "output_type": "execute_result"
    }
   ],
   "execution_count": 24
  },
  {
   "metadata": {
    "ExecuteTime": {
     "end_time": "2025-06-15T08:26:23.143390Z",
     "start_time": "2025-06-15T08:26:23.140338Z"
    }
   },
   "cell_type": "code",
   "source": [
    "def test_policy(policy, n=200):\n",
    "    env = gym.make(\"FrozenLake8x8-v1\")\n",
    "    rewards = []\n",
    "    for i in range(n):\n",
    "        episode_reward = 0\n",
    "        state, _ = env.reset()\n",
    "        while True:\n",
    "            action = np.random.choice(env.action_space.n, p=policy[state])\n",
    "            state, reward, terminated, truncated, _ = env.step(action)\n",
    "            episode_reward += reward\n",
    "            if terminated or truncated: break\n",
    "        rewards.append(episode_reward)\n",
    "    return rewards\n"
   ],
   "id": "2bfe581aefb42370",
   "outputs": [],
   "execution_count": 25
  },
  {
   "metadata": {
    "ExecuteTime": {
     "end_time": "2025-06-15T08:26:44.658535Z",
     "start_time": "2025-06-15T08:26:44.308646Z"
    }
   },
   "cell_type": "code",
   "source": [
    "rewards = test_policy(policy)\n",
    "np.mean(rewards), np.std(rewards)"
   ],
   "id": "47b8e3c68703b11a",
   "outputs": [
    {
     "data": {
      "text/plain": [
       "(np.float64(0.775), np.float64(0.41758232721225164))"
      ]
     },
     "execution_count": 27,
     "metadata": {},
     "output_type": "execute_result"
    }
   ],
   "execution_count": 27
  }
 ],
 "metadata": {
  "kernelspec": {
   "display_name": "Python 3",
   "language": "python",
   "name": "python3"
  },
  "language_info": {
   "codemirror_mode": {
    "name": "ipython",
    "version": 2
   },
   "file_extension": ".py",
   "mimetype": "text/x-python",
   "name": "python",
   "nbconvert_exporter": "python",
   "pygments_lexer": "ipython2",
   "version": "2.7.6"
  }
 },
 "nbformat": 4,
 "nbformat_minor": 5
}
