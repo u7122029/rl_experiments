{
 "cells": [
  {
   "cell_type": "code",
   "id": "initial_id",
   "metadata": {
    "collapsed": true,
    "ExecuteTime": {
     "end_time": "2025-06-01T07:48:19.123350Z",
     "start_time": "2025-06-01T07:48:19.073120Z"
    }
   },
   "source": "import numpy as np",
   "outputs": [],
   "execution_count": 1
  },
  {
   "metadata": {},
   "cell_type": "markdown",
   "source": [
    "# Optimal Policy and Optimal Value\n",
    "## Optimal Policy Definition\n",
    "Given environment, if exists policy $\\pi_*$ s.t. every policy $\\pi$ satisfies $\\pi \\preccurlyeq \\pi_*$, then $\\pi_*$ is an optimal policy. An optimal policy satisfies:\n",
    "$$\n",
    "\\begin{align*}\n",
    "v_{\\pi_*}(s) &= \\max_{\\pi} v_\\pi(s)\\\\\n",
    "q_{\\pi_*}(s,a) &= \\max_{\\pi} q_\\pi(s,a)\n",
    "\\end{align*}\n",
    "$$\n",
    "### Optimal Values\n",
    "Optimal State Value:\n",
    "$$\n",
    "v_*(s) = \\sup_\\pi v_\\pi(s)\n",
    "$$\n",
    "Optimal Action Value:\n",
    "$$\n",
    "q_*(s,a) = \\sup_\\pi q_\\pi(s,a)\n",
    "$$\n",
    "If the is an optimal $\\pi$, values of optimal policy equal the optimal values.\n",
    "\n",
    "Not all environments have optimal values. This is due to the nature of the maximum vs. the supremum."
   ],
   "id": "840f95d40933c676"
  },
  {
   "metadata": {},
   "cell_type": "markdown",
   "source": [
    "## Existence and Uniqueness of Optimal Policy\n",
    "Here we:\n",
    "1. Examine an environment that has optimal values but not optimal policies.\n",
    "2. Discuss conditions that ensure existence of optimal policy.\n",
    "3. Show that there may be multiple different optimal policies.\n",
    "\n",
    "### One-shot Environment\n",
    "- $S = \\{s\\}$\n",
    "- $A \\subseteq \\mathbb{R}$, $A$ is an open interval, such as $(0,1)$\n",
    "- $R_0 = a$ where $a \\in A$ is the action chosen.\n",
    "- State value for any policy $\\pi$ is $v_\\pi(s) = \\mathbb{E}_\\pi[a] = \\sum_{a \\in A} a\\cdot \\pi(a\\mid s)$.\n",
    "- $q_\\pi(s,a) = a$\n",
    "\n",
    "Now we find optimal values for environment.\n",
    "$$\n",
    "v_\\pi(s) = \\sum_{a \\in A}a\\cdot \\pi(a\\mid s) \\leq \\sum_{a \\in A}(\\sup A)\\pi(a\\mid s) = \\sup A\n",
    "$$\n",
    "Which means\n",
    "$$\n",
    "v_*(s) = \\sup_\\pi v_\\pi(s) = \\sup_\\pi(\\sup A) = \\sup A\n",
    "$$"
   ],
   "id": "a82cdd1afe32efee"
  },
  {
   "metadata": {},
   "cell_type": "markdown",
   "source": [
    "On the other hand, for any action $a\\in A$, we can construct a deterministic policy $\\pi : s \\mapsto a$. State value is $v_\\pi(s) = a$. Consequently,\n",
    "$$v_*(s) \\geq v_\\pi(s) = a$$\n",
    "Since $a$ can be any action in $A$, optimal state value is $v_\\pi(s) = a$.\n",
    "\n",
    "Optimal action value is $q_*(s,a) = a$.\n",
    "\n",
    "If we further define $A = (0,1)$, then optimal state value is $v_*(s) = \\sup A = 1$. However, the state value of any policy $\\pi$ satisfies:\n",
    "$$v_\\pi(s) = \\int_0^1a \\cdot \\pi(a\\mid s)\\,\\mathrm{d}a < \\int_0^1\\pi(a\\mid s)\\,\\mathrm{d}a = 1 = v_*(s)$$\n",
    "So the claim that $v_{\\pi}(s) = v_*(s)$ is false. Therefore the environment has no optimal policy."
   ],
   "id": "adec676d0d72b6a6"
  },
  {
   "metadata": {},
   "cell_type": "markdown",
   "source": [
    "## When does an Optimal Policy Exist?\n",
    "When one of the following conditions is met.\n",
    "- $S$ is countable and $A(s)$ for all $s \\in S$ is finite.\n",
    "- $S$ is countable, and $A(s)$ for all $a \\in A(s)$ is compact (i.e: $A(s)$ is closed and bounded).\n",
    "- $S$ is Polish (e.g: $\\mathbb{R}^n$, $[0,1]$ and $A(s)$ are all finite.\n",
    "- $S$ is Polish, the $A(s)$ are all compact metric spaces, and $r(s,a)$ is bounded.\n",
    "\n",
    "For simplicity, we usually incorrectly assume the existence of an optimal policy."
   ],
   "id": "fc2ba6f46d9f310b"
  },
  {
   "metadata": {},
   "cell_type": "markdown",
   "source": [
    "## $\\epsilon$-Optimal Policies\n",
    "For environments that have no optimal policies, we can at the very least design policies that are arbitrarily close to being \"ideal\".\n",
    "\n",
    "Given $\\epsilon > 0$, if $\\pi_*$ satisfies\n",
    "$$\n",
    "\\begin{align*}\n",
    "v_*(s) - v_{\\pi_*}(s) &< \\epsilon\\\\\n",
    "q_*(s,a) - q_{\\pi_*}(s,a) &< \\epsilon\n",
    "\\end{align*}\n",
    "$$\n",
    "Then $\\pi_*$ is an $\\epsilon$-optimal policy.\n",
    "\n",
    "Sometimes, even when optimal values exist, there may not exist an $\\epsilon$-optimal policy."
   ],
   "id": "ac6154679f0c986b"
  },
  {
   "metadata": {},
   "cell_type": "markdown",
   "source": "",
   "id": "7988fbe94cff9251"
  }
 ],
 "metadata": {
  "kernelspec": {
   "display_name": "Python 3",
   "language": "python",
   "name": "python3"
  },
  "language_info": {
   "codemirror_mode": {
    "name": "ipython",
    "version": 2
   },
   "file_extension": ".py",
   "mimetype": "text/x-python",
   "name": "python",
   "nbconvert_exporter": "python",
   "pygments_lexer": "ipython2",
   "version": "2.7.6"
  }
 },
 "nbformat": 4,
 "nbformat_minor": 5
}
