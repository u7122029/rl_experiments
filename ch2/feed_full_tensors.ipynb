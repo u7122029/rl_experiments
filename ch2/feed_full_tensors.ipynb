{
 "cells": [
  {
   "cell_type": "markdown",
   "id": "b33bac78",
   "metadata": {},
   "source": [
    "# Feed Full Env Using Tensors\n",
    "If you are following along with the book, look through `feed_full.ipynb` first. This is an implementation of the same environment using tensors instead of 2d matrices."
   ]
  },
  {
   "cell_type": "code",
   "execution_count": 1,
   "id": "d874da8b",
   "metadata": {},
   "outputs": [],
   "source": [
    "import numpy as np\n",
    "import scipy as sp"
   ]
  },
  {
   "cell_type": "code",
   "execution_count": 2,
   "id": "e66594a6",
   "metadata": {},
   "outputs": [],
   "source": [
    "p_S0 = np.array([1/2, 1/2])"
   ]
  },
  {
   "cell_type": "code",
   "execution_count": 5,
   "id": "613eac0a",
   "metadata": {},
   "outputs": [],
   "source": [
    "dynamics_raw = {(\"hungry\", -2, \"hungry\", \"ignore\"): 1,\n",
    "                (\"hungry\", -3, \"hungry\", \"feed\"): 1/3,\n",
    "                (\"full\", 1, \"hungry\", \"feed\"): 2/3,\n",
    "                (\"hungry\", -2, \"full\", \"ignore\"): 3/4,\n",
    "                (\"full\", 2, \"full\", \"ignore\"): 1/4,\n",
    "                (\"full\", 1, \"full\", \"feed\"): 1}\n",
    "\n",
    "state_map = {\"hungry\": 0,\n",
    "             \"full\": 1}\n",
    "reward_map = {-3: 0,\n",
    "              -2: 1,\n",
    "               1: 2,\n",
    "               2: 3}\n",
    "action_map = {\"ignore\": 0,\n",
    "              \"feed\": 1}"
   ]
  },
  {
   "cell_type": "code",
   "execution_count": 16,
   "id": "b5fb4974",
   "metadata": {},
   "outputs": [],
   "source": [
    "reward_vec = np.array([-3,-2,1,2])"
   ]
  },
  {
   "cell_type": "code",
   "execution_count": null,
   "id": "1fc553ea",
   "metadata": {},
   "outputs": [
    {
     "data": {
      "text/plain": [
       "array([[0.        , 0.33333333, 0.        , 0.        ],\n",
       "       [1.        , 0.        , 0.75      , 0.        ],\n",
       "       [0.        , 0.        , 0.        , 0.        ],\n",
       "       [0.        , 0.        , 0.        , 0.        ],\n",
       "       [0.        , 0.        , 0.        , 0.        ],\n",
       "       [0.        , 0.        , 0.        , 0.        ],\n",
       "       [0.        , 0.66666667, 0.        , 1.        ],\n",
       "       [0.        , 0.        , 0.25      , 0.        ]])"
      ]
     },
     "execution_count": 10,
     "metadata": {},
     "output_type": "execute_result"
    }
   ],
   "source": [
    "dynamics_matrix = np.zeros((2, 4, 2, 2))\n",
    "for (next_state, reward, state, action), prob in dynamics_raw.items():\n",
    "    dynamics_matrix[state_map[next_state], reward_map[reward], state_map[state], action_map[action]] = prob\n",
    "dynamics_matrix.reshape(2,4,4).reshape(8,4) # The dynamics matrix is basically the same."
   ]
  },
  {
   "cell_type": "code",
   "execution_count": 13,
   "id": "58cdf118",
   "metadata": {},
   "outputs": [
    {
     "data": {
      "text/plain": [
       "array([[1.        , 0.33333333, 0.75      , 0.        ],\n",
       "       [0.        , 0.66666667, 0.25      , 1.        ]])"
      ]
     },
     "execution_count": 13,
     "metadata": {},
     "output_type": "execute_result"
    }
   ],
   "source": [
    "p_sp_given_s_a = np.sum(dynamics_matrix, axis=1)\n",
    "p_sp_given_s_a.reshape(2,4)"
   ]
  },
  {
   "cell_type": "code",
   "execution_count": 82,
   "id": "aae6e180",
   "metadata": {},
   "outputs": [
    {
     "data": {
      "text/plain": [
       "array([[-2.        , -0.33333333],\n",
       "       [-1.        ,  1.        ]])"
      ]
     },
     "execution_count": 82,
     "metadata": {},
     "output_type": "execute_result"
    }
   ],
   "source": [
    "r = np.sum(dynamics_matrix * reward_vec[np.newaxis, :, np.newaxis, np.newaxis], axis=(0,1))\n",
    "r"
   ]
  },
  {
   "cell_type": "code",
   "execution_count": 81,
   "id": "3d123a25",
   "metadata": {},
   "outputs": [
    {
     "data": {
      "text/plain": [
       "array([[-2.        , -0.33333333],\n",
       "       [-1.        ,  1.        ]])"
      ]
     },
     "execution_count": 81,
     "metadata": {},
     "output_type": "execute_result"
    }
   ],
   "source": [
    "# another way to compute r.\n",
    "r1 = reward_vec[np.newaxis, np.newaxis, :] @ np.sum(dynamics_matrix, axis=0).transpose(1,0,2)\n",
    "r1[:,0,:]"
   ]
  },
  {
   "cell_type": "code",
   "execution_count": 27,
   "id": "7f9d7553",
   "metadata": {},
   "outputs": [
    {
     "name": "stderr",
     "output_type": "stream",
     "text": [
      "C:\\Users\\_Kookie\\AppData\\Local\\Temp\\ipykernel_17060\\4148661816.py:1: RuntimeWarning: invalid value encountered in divide\n",
      "  r_sp = np.sum(dynamics_matrix * reward_vec[np.newaxis, :, np.newaxis, np.newaxis], axis=1) / p_sp_given_s_a\n"
     ]
    },
    {
     "data": {
      "text/plain": [
       "array([[-2., -3., -2.,  0.],\n",
       "       [ 0.,  1.,  2.,  1.]])"
      ]
     },
     "execution_count": 27,
     "metadata": {},
     "output_type": "execute_result"
    }
   ],
   "source": [
    "r_sp = np.sum(dynamics_matrix * reward_vec[np.newaxis, :, np.newaxis, np.newaxis], axis=1) / p_sp_given_s_a\n",
    "r_sp = np.nan_to_num(r_sp)\n",
    "r_sp.reshape(2,4)"
   ]
  },
  {
   "cell_type": "code",
   "execution_count": 28,
   "id": "f1b3fe36",
   "metadata": {},
   "outputs": [
    {
     "data": {
      "text/plain": [
       "array([[0.25      , 0.75      ],\n",
       "       [0.83333333, 0.16666667]])"
      ]
     },
     "execution_count": 28,
     "metadata": {},
     "output_type": "execute_result"
    }
   ],
   "source": [
    "pi = np.array([[1/4, 3/4], \n",
    "               [5/6, 1/6]])\n",
    "pi"
   ]
  },
  {
   "cell_type": "code",
   "execution_count": 30,
   "id": "f726215b",
   "metadata": {},
   "outputs": [
    {
     "data": {
      "text/plain": [
       "array([[0.125     , 0.375     ],\n",
       "       [0.41666667, 0.08333333]])"
      ]
     },
     "execution_count": 30,
     "metadata": {},
     "output_type": "execute_result"
    }
   ],
   "source": [
    "p_S0_A0_pi = p_S0[:, np.newaxis] * pi\n",
    "p_S0_A0_pi"
   ]
  },
  {
   "cell_type": "code",
   "execution_count": 55,
   "id": "c1f28419",
   "metadata": {},
   "outputs": [
    {
     "data": {
      "text/plain": [
       "array([[0.5  , 0.625],\n",
       "       [0.5  , 0.375]])"
      ]
     },
     "execution_count": 55,
     "metadata": {},
     "output_type": "execute_result"
    }
   ],
   "source": [
    "# (S, A) and (S', S, A)\n",
    "# (S, 1, A) and (S, A, S') # The S dimension must line up because you can only put pi(a|s) and p(s'|s, a) \n",
    "# when s and a are the same. furthermore, we are summing over all the actions a.\n",
    "p_pi_sp_given_s = pi[:, np.newaxis, :] @ p_sp_given_s_a.transpose(1, 2, 0)\n",
    "p_pi_sp_given_s = p_pi_sp_given_s[:, 0, :].transpose(1,0) # (S, S') shape 0 index is like squeezing in pytorch.\n",
    "p_pi_sp_given_s"
   ]
  },
  {
   "cell_type": "code",
   "execution_count": null,
   "id": "c188fe0c",
   "metadata": {},
   "outputs": [
    {
     "data": {
      "text/plain": [
       "(2, 2, 2)"
      ]
     },
     "execution_count": 58,
     "metadata": {},
     "output_type": "execute_result"
    }
   ],
   "source": [
    "p_sp_given_s_a.shape # (S', S, A)"
   ]
  },
  {
   "cell_type": "code",
   "execution_count": null,
   "id": "7cc39a60",
   "metadata": {},
   "outputs": [
    {
     "data": {
      "text/plain": [
       "(2, 2)"
      ]
     },
     "execution_count": 60,
     "metadata": {},
     "output_type": "execute_result"
    }
   ],
   "source": [
    "pi.shape # (S', A)"
   ]
  },
  {
   "cell_type": "code",
   "execution_count": null,
   "id": "f0e53dc6",
   "metadata": {},
   "outputs": [
    {
     "data": {
      "text/plain": [
       "array([[0.25      , 0.08333333, 0.1875    , 0.        ],\n",
       "       [0.75      , 0.25      , 0.5625    , 0.        ],\n",
       "       [0.        , 0.55555556, 0.20833333, 0.83333333],\n",
       "       [0.        , 0.11111111, 0.04166667, 0.16666667]])"
      ]
     },
     "execution_count": 67,
     "metadata": {},
     "output_type": "execute_result"
    }
   ],
   "source": [
    "def get_p_pi_sp_ap_given_s_a(pi, p_sp_given_s_a):\n",
    "    # (S', A', 1, 1) * (S', 1, S, A)\n",
    "    p_pi = pi[:, :, np.newaxis, np.newaxis] * p_sp_given_s_a[:, np.newaxis, :, :]\n",
    "    return p_pi\n",
    "\n",
    "p_pi_sp_ap_given_s_a = get_p_pi_sp_ap_given_s_a(pi, p_sp_given_s_a)\n",
    "p_pi_sp_ap_given_s_a.reshape(4,4)"
   ]
  },
  {
   "cell_type": "code",
   "execution_count": 71,
   "id": "50ff3a26",
   "metadata": {},
   "outputs": [
    {
     "data": {
      "text/plain": [
       "array([-0.75      , -0.66666667])"
      ]
     },
     "execution_count": 71,
     "metadata": {},
     "output_type": "execute_result"
    }
   ],
   "source": [
    "r_pi = np.sum(r * pi, axis=1)\n",
    "r_pi"
   ]
  },
  {
   "cell_type": "code",
   "execution_count": null,
   "id": "65b8fbb8",
   "metadata": {},
   "outputs": [
    {
     "data": {
      "text/plain": [
       "array([[0.5  , 0.625],\n",
       "       [0.5  , 0.375]])"
      ]
     },
     "execution_count": 72,
     "metadata": {},
     "output_type": "execute_result"
    }
   ],
   "source": [
    "def get_vq2(p_pi_sp_given_s, p_sp_given_s_a, gamma, pi, r):\n",
    "    q_pi = np.linalg.inv(np.eye(4) - gamma * p_pi_sp_ap_given_s_a.T) @ r\n",
    "    v_pi = np.array([[1,1,0,0],[0,0,1,1]]) @ (pi * q_pi)\n",
    "    return v_pi, q_pi"
   ]
  },
  {
   "cell_type": "code",
   "execution_count": null,
   "id": "29657ec4",
   "metadata": {},
   "outputs": [],
   "source": []
  }
 ],
 "metadata": {
  "kernelspec": {
   "display_name": ".venv",
   "language": "python",
   "name": "python3"
  },
  "language_info": {
   "codemirror_mode": {
    "name": "ipython",
    "version": 3
   },
   "file_extension": ".py",
   "mimetype": "text/x-python",
   "name": "python",
   "nbconvert_exporter": "python",
   "pygments_lexer": "ipython3",
   "version": "3.13.3"
  }
 },
 "nbformat": 4,
 "nbformat_minor": 5
}
